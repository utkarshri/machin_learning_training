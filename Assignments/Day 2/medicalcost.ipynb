{
 "cells": [
  {
   "cell_type": "code",
   "execution_count": 1,
   "id": "5355061c",
   "metadata": {
    "_cell_guid": "b1076dfc-b9ad-4769-8c92-a6c4dae69d19",
    "_uuid": "8f2839f25d086af736a60e9eeb907d3b93b6e0e5",
    "execution": {
     "iopub.execute_input": "2022-06-17T10:03:56.018524Z",
     "iopub.status.busy": "2022-06-17T10:03:56.017970Z",
     "iopub.status.idle": "2022-06-17T10:03:56.036352Z",
     "shell.execute_reply": "2022-06-17T10:03:56.035519Z"
    },
    "papermill": {
     "duration": 0.034485,
     "end_time": "2022-06-17T10:03:56.039023",
     "exception": false,
     "start_time": "2022-06-17T10:03:56.004538",
     "status": "completed"
    },
    "tags": []
   },
   "outputs": [
    {
     "name": "stdout",
     "output_type": "stream",
     "text": [
      "/kaggle/input/insurance/insurance.csv\n"
     ]
    }
   ],
   "source": [
    "# This Python 3 environment comes with many helpful analytics libraries installed\n",
    "# It is defined by the kaggle/python Docker image: https://github.com/kaggle/docker-python\n",
    "# For example, here's several helpful packages to load\n",
    "\n",
    "import numpy as np # linear algebra\n",
    "import pandas as pd # data processing, CSV file I/O (e.g. pd.read_csv)\n",
    "\n",
    "# Input data files are available in the read-only \"../input/\" directory\n",
    "# For example, running this (by clicking run or pressing Shift+Enter) will list all files under the input directory\n",
    "\n",
    "import os\n",
    "for dirname, _, filenames in os.walk('/kaggle/input'):\n",
    "    for filename in filenames:\n",
    "        print(os.path.join(dirname, filename))\n",
    "\n",
    "# You can write up to 20GB to the current directory (/kaggle/working/) that gets preserved as output when you create a version using \"Save & Run All\" \n",
    "# You can also write temporary files to /kaggle/temp/, but they won't be saved outside of the current session"
   ]
  },
  {
   "cell_type": "code",
   "execution_count": 2,
   "id": "9ad2b4f2",
   "metadata": {
    "execution": {
     "iopub.execute_input": "2022-06-17T10:03:56.062627Z",
     "iopub.status.busy": "2022-06-17T10:03:56.062294Z",
     "iopub.status.idle": "2022-06-17T10:03:57.026070Z",
     "shell.execute_reply": "2022-06-17T10:03:57.024727Z"
    },
    "papermill": {
     "duration": 0.978738,
     "end_time": "2022-06-17T10:03:57.029547",
     "exception": false,
     "start_time": "2022-06-17T10:03:56.050809",
     "status": "completed"
    },
    "tags": []
   },
   "outputs": [],
   "source": [
    "import pandas as pd\n",
    "import matplotlib.pyplot as plt\n",
    "import seaborn as sns\n",
    "import numpy as np\n",
    "\n",
    "sns.set_theme(style='darkgrid', palette='deep')"
   ]
  },
  {
   "cell_type": "code",
   "execution_count": 3,
   "id": "3cc4d123",
   "metadata": {
    "execution": {
     "iopub.execute_input": "2022-06-17T10:03:57.065373Z",
     "iopub.status.busy": "2022-06-17T10:03:57.064851Z",
     "iopub.status.idle": "2022-06-17T10:03:57.109166Z",
     "shell.execute_reply": "2022-06-17T10:03:57.108415Z"
    },
    "papermill": {
     "duration": 0.0629,
     "end_time": "2022-06-17T10:03:57.111010",
     "exception": false,
     "start_time": "2022-06-17T10:03:57.048110",
     "status": "completed"
    },
    "tags": []
   },
   "outputs": [
    {
     "data": {
      "text/html": [
       "<div>\n",
       "<style scoped>\n",
       "    .dataframe tbody tr th:only-of-type {\n",
       "        vertical-align: middle;\n",
       "    }\n",
       "\n",
       "    .dataframe tbody tr th {\n",
       "        vertical-align: top;\n",
       "    }\n",
       "\n",
       "    .dataframe thead th {\n",
       "        text-align: right;\n",
       "    }\n",
       "</style>\n",
       "<table border=\"1\" class=\"dataframe\">\n",
       "  <thead>\n",
       "    <tr style=\"text-align: right;\">\n",
       "      <th></th>\n",
       "      <th>age</th>\n",
       "      <th>sex</th>\n",
       "      <th>bmi</th>\n",
       "      <th>children</th>\n",
       "      <th>smoker</th>\n",
       "      <th>region</th>\n",
       "      <th>charges</th>\n",
       "    </tr>\n",
       "  </thead>\n",
       "  <tbody>\n",
       "    <tr>\n",
       "      <th>0</th>\n",
       "      <td>19</td>\n",
       "      <td>female</td>\n",
       "      <td>27.900</td>\n",
       "      <td>0</td>\n",
       "      <td>yes</td>\n",
       "      <td>southwest</td>\n",
       "      <td>16884.92400</td>\n",
       "    </tr>\n",
       "    <tr>\n",
       "      <th>1</th>\n",
       "      <td>18</td>\n",
       "      <td>male</td>\n",
       "      <td>33.770</td>\n",
       "      <td>1</td>\n",
       "      <td>no</td>\n",
       "      <td>southeast</td>\n",
       "      <td>1725.55230</td>\n",
       "    </tr>\n",
       "    <tr>\n",
       "      <th>2</th>\n",
       "      <td>28</td>\n",
       "      <td>male</td>\n",
       "      <td>33.000</td>\n",
       "      <td>3</td>\n",
       "      <td>no</td>\n",
       "      <td>southeast</td>\n",
       "      <td>4449.46200</td>\n",
       "    </tr>\n",
       "    <tr>\n",
       "      <th>3</th>\n",
       "      <td>33</td>\n",
       "      <td>male</td>\n",
       "      <td>22.705</td>\n",
       "      <td>0</td>\n",
       "      <td>no</td>\n",
       "      <td>northwest</td>\n",
       "      <td>21984.47061</td>\n",
       "    </tr>\n",
       "    <tr>\n",
       "      <th>4</th>\n",
       "      <td>32</td>\n",
       "      <td>male</td>\n",
       "      <td>28.880</td>\n",
       "      <td>0</td>\n",
       "      <td>no</td>\n",
       "      <td>northwest</td>\n",
       "      <td>3866.85520</td>\n",
       "    </tr>\n",
       "  </tbody>\n",
       "</table>\n",
       "</div>"
      ],
      "text/plain": [
       "   age     sex     bmi  children smoker     region      charges\n",
       "0   19  female  27.900         0    yes  southwest  16884.92400\n",
       "1   18    male  33.770         1     no  southeast   1725.55230\n",
       "2   28    male  33.000         3     no  southeast   4449.46200\n",
       "3   33    male  22.705         0     no  northwest  21984.47061\n",
       "4   32    male  28.880         0     no  northwest   3866.85520"
      ]
     },
     "execution_count": 3,
     "metadata": {},
     "output_type": "execute_result"
    }
   ],
   "source": [
    "df = pd.read_csv('/kaggle/input/insurance/insurance.csv')\n",
    "df.head()\n"
   ]
  },
  {
   "cell_type": "code",
   "execution_count": 4,
   "id": "c42d5c6e",
   "metadata": {
    "execution": {
     "iopub.execute_input": "2022-06-17T10:03:57.147403Z",
     "iopub.status.busy": "2022-06-17T10:03:57.147084Z",
     "iopub.status.idle": "2022-06-17T10:03:57.178245Z",
     "shell.execute_reply": "2022-06-17T10:03:57.176897Z"
    },
    "papermill": {
     "duration": 0.051737,
     "end_time": "2022-06-17T10:03:57.180816",
     "exception": false,
     "start_time": "2022-06-17T10:03:57.129079",
     "status": "completed"
    },
    "tags": []
   },
   "outputs": [
    {
     "name": "stdout",
     "output_type": "stream",
     "text": [
      "<class 'pandas.core.frame.DataFrame'>\n",
      "RangeIndex: 1338 entries, 0 to 1337\n",
      "Data columns (total 7 columns):\n",
      " #   Column    Non-Null Count  Dtype  \n",
      "---  ------    --------------  -----  \n",
      " 0   age       1338 non-null   int64  \n",
      " 1   sex       1338 non-null   object \n",
      " 2   bmi       1338 non-null   float64\n",
      " 3   children  1338 non-null   int64  \n",
      " 4   smoker    1338 non-null   object \n",
      " 5   region    1338 non-null   object \n",
      " 6   charges   1338 non-null   float64\n",
      "dtypes: float64(2), int64(2), object(3)\n",
      "memory usage: 73.3+ KB\n"
     ]
    }
   ],
   "source": [
    "df.info()"
   ]
  },
  {
   "cell_type": "code",
   "execution_count": 5,
   "id": "98979869",
   "metadata": {
    "execution": {
     "iopub.execute_input": "2022-06-17T10:03:57.218258Z",
     "iopub.status.busy": "2022-06-17T10:03:57.217604Z",
     "iopub.status.idle": "2022-06-17T10:03:57.248051Z",
     "shell.execute_reply": "2022-06-17T10:03:57.246922Z"
    },
    "papermill": {
     "duration": 0.052012,
     "end_time": "2022-06-17T10:03:57.250541",
     "exception": false,
     "start_time": "2022-06-17T10:03:57.198529",
     "status": "completed"
    },
    "tags": []
   },
   "outputs": [
    {
     "data": {
      "text/html": [
       "<div>\n",
       "<style scoped>\n",
       "    .dataframe tbody tr th:only-of-type {\n",
       "        vertical-align: middle;\n",
       "    }\n",
       "\n",
       "    .dataframe tbody tr th {\n",
       "        vertical-align: top;\n",
       "    }\n",
       "\n",
       "    .dataframe thead th {\n",
       "        text-align: right;\n",
       "    }\n",
       "</style>\n",
       "<table border=\"1\" class=\"dataframe\">\n",
       "  <thead>\n",
       "    <tr style=\"text-align: right;\">\n",
       "      <th></th>\n",
       "      <th>age</th>\n",
       "      <th>bmi</th>\n",
       "      <th>children</th>\n",
       "      <th>charges</th>\n",
       "    </tr>\n",
       "  </thead>\n",
       "  <tbody>\n",
       "    <tr>\n",
       "      <th>count</th>\n",
       "      <td>1338.000000</td>\n",
       "      <td>1338.000000</td>\n",
       "      <td>1338.000000</td>\n",
       "      <td>1338.000000</td>\n",
       "    </tr>\n",
       "    <tr>\n",
       "      <th>mean</th>\n",
       "      <td>39.207025</td>\n",
       "      <td>30.663397</td>\n",
       "      <td>1.094918</td>\n",
       "      <td>13270.422265</td>\n",
       "    </tr>\n",
       "    <tr>\n",
       "      <th>std</th>\n",
       "      <td>14.049960</td>\n",
       "      <td>6.098187</td>\n",
       "      <td>1.205493</td>\n",
       "      <td>12110.011237</td>\n",
       "    </tr>\n",
       "    <tr>\n",
       "      <th>min</th>\n",
       "      <td>18.000000</td>\n",
       "      <td>15.960000</td>\n",
       "      <td>0.000000</td>\n",
       "      <td>1121.873900</td>\n",
       "    </tr>\n",
       "    <tr>\n",
       "      <th>25%</th>\n",
       "      <td>27.000000</td>\n",
       "      <td>26.296250</td>\n",
       "      <td>0.000000</td>\n",
       "      <td>4740.287150</td>\n",
       "    </tr>\n",
       "    <tr>\n",
       "      <th>50%</th>\n",
       "      <td>39.000000</td>\n",
       "      <td>30.400000</td>\n",
       "      <td>1.000000</td>\n",
       "      <td>9382.033000</td>\n",
       "    </tr>\n",
       "    <tr>\n",
       "      <th>75%</th>\n",
       "      <td>51.000000</td>\n",
       "      <td>34.693750</td>\n",
       "      <td>2.000000</td>\n",
       "      <td>16639.912515</td>\n",
       "    </tr>\n",
       "    <tr>\n",
       "      <th>max</th>\n",
       "      <td>64.000000</td>\n",
       "      <td>53.130000</td>\n",
       "      <td>5.000000</td>\n",
       "      <td>63770.428010</td>\n",
       "    </tr>\n",
       "  </tbody>\n",
       "</table>\n",
       "</div>"
      ],
      "text/plain": [
       "               age          bmi     children       charges\n",
       "count  1338.000000  1338.000000  1338.000000   1338.000000\n",
       "mean     39.207025    30.663397     1.094918  13270.422265\n",
       "std      14.049960     6.098187     1.205493  12110.011237\n",
       "min      18.000000    15.960000     0.000000   1121.873900\n",
       "25%      27.000000    26.296250     0.000000   4740.287150\n",
       "50%      39.000000    30.400000     1.000000   9382.033000\n",
       "75%      51.000000    34.693750     2.000000  16639.912515\n",
       "max      64.000000    53.130000     5.000000  63770.428010"
      ]
     },
     "execution_count": 5,
     "metadata": {},
     "output_type": "execute_result"
    }
   ],
   "source": [
    "df.describe()"
   ]
  },
  {
   "cell_type": "code",
   "execution_count": 6,
   "id": "72bc2bb9",
   "metadata": {
    "execution": {
     "iopub.execute_input": "2022-06-17T10:03:57.288038Z",
     "iopub.status.busy": "2022-06-17T10:03:57.287533Z",
     "iopub.status.idle": "2022-06-17T10:04:00.081675Z",
     "shell.execute_reply": "2022-06-17T10:04:00.080884Z"
    },
    "papermill": {
     "duration": 2.817498,
     "end_time": "2022-06-17T10:04:00.086220",
     "exception": false,
     "start_time": "2022-06-17T10:03:57.268722",
     "status": "completed"
    },
    "tags": []
   },
   "outputs": [
    {
     "data": {
      "text/plain": [
       "<seaborn.axisgrid.PairGrid at 0x7f4f16860850>"
      ]
     },
     "execution_count": 6,
     "metadata": {},
     "output_type": "execute_result"
    },
    {
     "data": {
      "image/png": "[encoded data removed]",
      "text/plain": [
       "<Figure size 720x720 with 20 Axes>"
      ]
     },
     "metadata": {},
     "output_type": "display_data"
    }
   ],
   "source": [
    "sns.pairplot(df)"
   ]
  },
  {
   "cell_type": "code",
   "execution_count": 7,
   "id": "d77d46bd",
   "metadata": {
    "execution": {
     "iopub.execute_input": "2022-06-17T10:04:00.116949Z",
     "iopub.status.busy": "2022-06-17T10:04:00.116610Z",
     "iopub.status.idle": "2022-06-17T10:04:00.128916Z",
     "shell.execute_reply": "2022-06-17T10:04:00.128046Z"
    },
    "papermill": {
     "duration": 0.029795,
     "end_time": "2022-06-17T10:04:00.130919",
     "exception": false,
     "start_time": "2022-06-17T10:04:00.101124",
     "status": "completed"
    },
    "tags": []
   },
   "outputs": [
    {
     "data": {
      "text/html": [
       "<div>\n",
       "<style scoped>\n",
       "    .dataframe tbody tr th:only-of-type {\n",
       "        vertical-align: middle;\n",
       "    }\n",
       "\n",
       "    .dataframe tbody tr th {\n",
       "        vertical-align: top;\n",
       "    }\n",
       "\n",
       "    .dataframe thead th {\n",
       "        text-align: right;\n",
       "    }\n",
       "</style>\n",
       "<table border=\"1\" class=\"dataframe\">\n",
       "  <thead>\n",
       "    <tr style=\"text-align: right;\">\n",
       "      <th></th>\n",
       "      <th>age</th>\n",
       "      <th>bmi</th>\n",
       "      <th>children</th>\n",
       "      <th>charges</th>\n",
       "    </tr>\n",
       "  </thead>\n",
       "  <tbody>\n",
       "    <tr>\n",
       "      <th>age</th>\n",
       "      <td>1.000000</td>\n",
       "      <td>0.109272</td>\n",
       "      <td>0.042469</td>\n",
       "      <td>0.299008</td>\n",
       "    </tr>\n",
       "    <tr>\n",
       "      <th>bmi</th>\n",
       "      <td>0.109272</td>\n",
       "      <td>1.000000</td>\n",
       "      <td>0.012759</td>\n",
       "      <td>0.198341</td>\n",
       "    </tr>\n",
       "    <tr>\n",
       "      <th>children</th>\n",
       "      <td>0.042469</td>\n",
       "      <td>0.012759</td>\n",
       "      <td>1.000000</td>\n",
       "      <td>0.067998</td>\n",
       "    </tr>\n",
       "    <tr>\n",
       "      <th>charges</th>\n",
       "      <td>0.299008</td>\n",
       "      <td>0.198341</td>\n",
       "      <td>0.067998</td>\n",
       "      <td>1.000000</td>\n",
       "    </tr>\n",
       "  </tbody>\n",
       "</table>\n",
       "</div>"
      ],
      "text/plain": [
       "               age       bmi  children   charges\n",
       "age       1.000000  0.109272  0.042469  0.299008\n",
       "bmi       0.109272  1.000000  0.012759  0.198341\n",
       "children  0.042469  0.012759  1.000000  0.067998\n",
       "charges   0.299008  0.198341  0.067998  1.000000"
      ]
     },
     "execution_count": 7,
     "metadata": {},
     "output_type": "execute_result"
    }
   ],
   "source": [
    "df.corr()"
   ]
  },
  {
   "cell_type": "markdown",
   "id": "046e4c45",
   "metadata": {
    "papermill": {
     "duration": 0.013544,
     "end_time": "2022-06-17T10:04:00.158367",
     "exception": false,
     "start_time": "2022-06-17T10:04:00.144823",
     "status": "completed"
    },
    "tags": []
   },
   "source": [
    "### Normalize `Age`, `BMI` and `Children` column to follow a normal distribution\n"
   ]
  },
  {
   "cell_type": "code",
   "execution_count": 8,
   "id": "412c88dc",
   "metadata": {
    "execution": {
     "iopub.execute_input": "2022-06-17T10:04:00.187708Z",
     "iopub.status.busy": "2022-06-17T10:04:00.187340Z",
     "iopub.status.idle": "2022-06-17T10:04:00.670501Z",
     "shell.execute_reply": "2022-06-17T10:04:00.669751Z"
    },
    "jupyter": {
     "source_hidden": true
    },
    "papermill": {
     "duration": 0.5001,
     "end_time": "2022-06-17T10:04:00.672282",
     "exception": false,
     "start_time": "2022-06-17T10:04:00.172182",
     "status": "completed"
    },
    "tags": []
   },
   "outputs": [
    {
     "data": {
      "image/png": "[encoded data removed]",
      "text/plain": [
       "<Figure size 432x288 with 1 Axes>"
      ]
     },
     "metadata": {},
     "output_type": "display_data"
    }
   ],
   "source": [
    "# from sklearn.preprocessing import power_transform\n",
    "\n",
    "# transformed_age = power_transform(df[['age']], method='box-cox', standardize=True)\n",
    "from sklearn.preprocessing import StandardScaler\n",
    "\n",
    "scale = StandardScaler()\n",
    "transformed_age = scale.fit_transform(df[['age']])\n",
    "sns.histplot(transformed_age)\n",
    "df['Transformed_age'] = transformed_age"
   ]
  },
  {
   "cell_type": "code",
   "execution_count": 9,
   "id": "5d289d34",
   "metadata": {
    "execution": {
     "iopub.execute_input": "2022-06-17T10:04:00.702418Z",
     "iopub.status.busy": "2022-06-17T10:04:00.702089Z",
     "iopub.status.idle": "2022-06-17T10:04:00.986831Z",
     "shell.execute_reply": "2022-06-17T10:04:00.986038Z"
    },
    "papermill": {
     "duration": 0.301503,
     "end_time": "2022-06-17T10:04:00.988517",
     "exception": false,
     "start_time": "2022-06-17T10:04:00.687014",
     "status": "completed"
    },
    "tags": []
   },
   "outputs": [
    {
     "data": {
      "image/png": "[encoded data removed]",
      "text/plain": [
       "<Figure size 432x288 with 1 Axes>"
      ]
     },
     "metadata": {},
     "output_type": "display_data"
    }
   ],
   "source": [
    "transformed_bmi = scale.fit_transform(df[['bmi']])\n",
    "sns.histplot(transformed_bmi)\n",
    "df['Transformed_bmi'] = transformed_bmi"
   ]
  },
  {
   "cell_type": "code",
   "execution_count": 10,
   "id": "47aa3398",
   "metadata": {
    "execution": {
     "iopub.execute_input": "2022-06-17T10:04:01.018872Z",
     "iopub.status.busy": "2022-06-17T10:04:01.018436Z",
     "iopub.status.idle": "2022-06-17T10:04:01.268140Z",
     "shell.execute_reply": "2022-06-17T10:04:01.267396Z"
    },
    "papermill": {
     "duration": 0.267154,
     "end_time": "2022-06-17T10:04:01.270124",
     "exception": false,
     "start_time": "2022-06-17T10:04:01.002970",
     "status": "completed"
    },
    "tags": []
   },
   "outputs": [
    {
     "data": {
      "image/png": "[encoded data removed]",
      "text/plain": [
       "<Figure size 432x288 with 1 Axes>"
      ]
     },
     "metadata": {},
     "output_type": "display_data"
    }
   ],
   "source": [
    "transformed_children = scale.fit_transform(df[['children']])\n",
    "sns.histplot(transformed_children)\n",
    "df['Transformed_children'] = transformed_children"
   ]
  },
  {
   "cell_type": "markdown",
   "id": "7e6c0744",
   "metadata": {
    "papermill": {
     "duration": 0.014288,
     "end_time": "2022-06-17T10:04:01.299059",
     "exception": false,
     "start_time": "2022-06-17T10:04:01.284771",
     "status": "completed"
    },
    "tags": []
   },
   "source": [
    "None of the factors show any kind of strong correlation with the charges"
   ]
  },
  {
   "cell_type": "markdown",
   "id": "1bb42072",
   "metadata": {
    "papermill": {
     "duration": 0.01413,
     "end_time": "2022-06-17T10:04:01.327525",
     "exception": false,
     "start_time": "2022-06-17T10:04:01.313395",
     "status": "completed"
    },
    "tags": []
   },
   "source": [
    "### Anova on categrical variables - Sex, Smoker, Region\n",
    "\n",
    "Let's assume there is no correlation between `sex`, `smoker` and `region` with `charges` - Null Hypothesis\n",
    "\n",
    "Considering the significance level of .05. Let's perform hypothesis testing"
   ]
  },
  {
   "cell_type": "code",
   "execution_count": 11,
   "id": "75603e54",
   "metadata": {
    "execution": {
     "iopub.execute_input": "2022-06-17T10:04:01.357793Z",
     "iopub.status.busy": "2022-06-17T10:04:01.357449Z",
     "iopub.status.idle": "2022-06-17T10:04:01.367446Z",
     "shell.execute_reply": "2022-06-17T10:04:01.366592Z"
    },
    "papermill": {
     "duration": 0.027476,
     "end_time": "2022-06-17T10:04:01.369553",
     "exception": false,
     "start_time": "2022-06-17T10:04:01.342077",
     "status": "completed"
    },
    "tags": []
   },
   "outputs": [
    {
     "name": "stdout",
     "output_type": "stream",
     "text": [
      "F_Stats : 4.3997016974374565, P_Val : 0.03613272100596256\n"
     ]
    }
   ],
   "source": [
    "from scipy.stats import f_oneway\n",
    "\n",
    "male = df[df['sex'] == 'male']['charges']\n",
    "female = df[df['sex'] == 'female']['charges']\n",
    "\n",
    "f_stats, p_val = f_oneway(male, female)\n",
    "print('F_Stats : {0}, P_Val : {1}'.format(f_stats, p_val))"
   ]
  },
  {
   "cell_type": "markdown",
   "id": "520d3fbd",
   "metadata": {
    "papermill": {
     "duration": 0.014538,
     "end_time": "2022-06-17T10:04:01.398513",
     "exception": false,
     "start_time": "2022-06-17T10:04:01.383975",
     "status": "completed"
    },
    "tags": []
   },
   "source": [
    "With the following values of F_stats and P_val we can say that our that we accept our alternate hypothesis and there is some correlation between the Predictor and Target Feature."
   ]
  },
  {
   "cell_type": "code",
   "execution_count": 12,
   "id": "c9406a99",
   "metadata": {
    "execution": {
     "iopub.execute_input": "2022-06-17T10:04:01.429145Z",
     "iopub.status.busy": "2022-06-17T10:04:01.428595Z",
     "iopub.status.idle": "2022-06-17T10:04:01.439023Z",
     "shell.execute_reply": "2022-06-17T10:04:01.438091Z"
    },
    "papermill": {
     "duration": 0.027975,
     "end_time": "2022-06-17T10:04:01.441246",
     "exception": false,
     "start_time": "2022-06-17T10:04:01.413271",
     "status": "completed"
    },
    "tags": []
   },
   "outputs": [
    {
     "name": "stdout",
     "output_type": "stream",
     "text": [
      "F_Stats : 2177.614868056519, P_Val : 8.271435842182967e-283\n"
     ]
    }
   ],
   "source": [
    "smoker_y = df[df['smoker'] == 'yes']['charges']\n",
    "smoker_n = df[df['smoker'] == 'no']['charges']\n",
    "\n",
    "f_stats, p_val = f_oneway(smoker_y, smoker_n)\n",
    "print('F_Stats : {0}, P_Val : {1}'.format(f_stats, p_val))"
   ]
  },
  {
   "cell_type": "markdown",
   "id": "05befe8c",
   "metadata": {
    "papermill": {
     "duration": 0.014423,
     "end_time": "2022-06-17T10:04:01.470419",
     "exception": false,
     "start_time": "2022-06-17T10:04:01.455996",
     "status": "completed"
    },
    "tags": []
   },
   "source": [
    "Very high value for F-test and low p_val indicates that this feature is useful and should be selected for model development."
   ]
  },
  {
   "cell_type": "markdown",
   "id": "7490278a",
   "metadata": {
    "papermill": {
     "duration": 0.014282,
     "end_time": "2022-06-17T10:04:01.499646",
     "exception": false,
     "start_time": "2022-06-17T10:04:01.485364",
     "status": "completed"
    },
    "tags": []
   },
   "source": [
    "For regions we have following unique groups - `['southwest', 'southeast', 'northwest', 'northeast']`"
   ]
  },
  {
   "cell_type": "code",
   "execution_count": 13,
   "id": "00655162",
   "metadata": {
    "execution": {
     "iopub.execute_input": "2022-06-17T10:04:01.530040Z",
     "iopub.status.busy": "2022-06-17T10:04:01.529702Z",
     "iopub.status.idle": "2022-06-17T10:04:01.540224Z",
     "shell.execute_reply": "2022-06-17T10:04:01.539476Z"
    },
    "papermill": {
     "duration": 0.028538,
     "end_time": "2022-06-17T10:04:01.542616",
     "exception": false,
     "start_time": "2022-06-17T10:04:01.514078",
     "status": "completed"
    },
    "tags": []
   },
   "outputs": [
    {
     "name": "stdout",
     "output_type": "stream",
     "text": [
      "F_Stats : 2.9696266935891193, P_Val : 0.0308933560705201\n"
     ]
    }
   ],
   "source": [
    "region_southwest = df[df['region'] == 'southwest']['charges']\n",
    "region_southeast = df[df['region'] == 'southeast']['charges']\n",
    "region_northeast = df[df['region'] == 'northeast']['charges']\n",
    "region_northwest = df[df['region'] == 'northwest']['charges']\n",
    "\n",
    "f_stats, p_val = f_oneway(region_southwest, region_southeast, region_northeast, region_northwest)\n",
    "print('F_Stats : {0}, P_Val : {1}'.format(f_stats, p_val))"
   ]
  },
  {
   "cell_type": "markdown",
   "id": "f1616617",
   "metadata": {
    "papermill": {
     "duration": 0.014663,
     "end_time": "2022-06-17T10:04:01.573049",
     "exception": false,
     "start_time": "2022-06-17T10:04:01.558386",
     "status": "completed"
    },
    "tags": []
   },
   "source": [
    "Region is also a variable that can be considered for model development as the p value is smaller than the significance level set."
   ]
  },
  {
   "cell_type": "markdown",
   "id": "83561128",
   "metadata": {
    "papermill": {
     "duration": 0.014706,
     "end_time": "2022-06-17T10:04:01.602764",
     "exception": false,
     "start_time": "2022-06-17T10:04:01.588058",
     "status": "completed"
    },
    "tags": []
   },
   "source": [
    "**Features Selected -** `Transformed_age`, `Transformed_bmi`, `Transformed_children`, `Region`, `Smoker` and `Sex` "
   ]
  },
  {
   "cell_type": "markdown",
   "id": "677f9674",
   "metadata": {
    "papermill": {
     "duration": 0.014348,
     "end_time": "2022-06-17T10:04:01.631698",
     "exception": false,
     "start_time": "2022-06-17T10:04:01.617350",
     "status": "completed"
    },
    "tags": []
   },
   "source": [
    "### One-hot encoding Sex, Smoker and Region"
   ]
  },
  {
   "cell_type": "code",
   "execution_count": 14,
   "id": "77eaeb3b",
   "metadata": {
    "execution": {
     "iopub.execute_input": "2022-06-17T10:04:01.662511Z",
     "iopub.status.busy": "2022-06-17T10:04:01.662170Z",
     "iopub.status.idle": "2022-06-17T10:04:01.671258Z",
     "shell.execute_reply": "2022-06-17T10:04:01.670509Z"
    },
    "papermill": {
     "duration": 0.026423,
     "end_time": "2022-06-17T10:04:01.672875",
     "exception": false,
     "start_time": "2022-06-17T10:04:01.646452",
     "status": "completed"
    },
    "tags": []
   },
   "outputs": [],
   "source": [
    "from sklearn.preprocessing import OneHotEncoder\n",
    "\n",
    "ohe = OneHotEncoder(sparse=False)\n",
    "df2 = ohe.fit_transform(df[['sex', 'smoker', 'region']])"
   ]
  },
  {
   "cell_type": "code",
   "execution_count": 15,
   "id": "eea12d91",
   "metadata": {
    "execution": {
     "iopub.execute_input": "2022-06-17T10:04:01.704224Z",
     "iopub.status.busy": "2022-06-17T10:04:01.703905Z",
     "iopub.status.idle": "2022-06-17T10:04:01.720027Z",
     "shell.execute_reply": "2022-06-17T10:04:01.719097Z"
    },
    "papermill": {
     "duration": 0.035476,
     "end_time": "2022-06-17T10:04:01.723232",
     "exception": false,
     "start_time": "2022-06-17T10:04:01.687756",
     "status": "completed"
    },
    "tags": []
   },
   "outputs": [
    {
     "data": {
      "text/html": [
       "<div>\n",
       "<style scoped>\n",
       "    .dataframe tbody tr th:only-of-type {\n",
       "        vertical-align: middle;\n",
       "    }\n",
       "\n",
       "    .dataframe tbody tr th {\n",
       "        vertical-align: top;\n",
       "    }\n",
       "\n",
       "    .dataframe thead th {\n",
       "        text-align: right;\n",
       "    }\n",
       "</style>\n",
       "<table border=\"1\" class=\"dataframe\">\n",
       "  <thead>\n",
       "    <tr style=\"text-align: right;\">\n",
       "      <th></th>\n",
       "      <th>0</th>\n",
       "      <th>1</th>\n",
       "      <th>2</th>\n",
       "      <th>3</th>\n",
       "      <th>4</th>\n",
       "      <th>5</th>\n",
       "      <th>6</th>\n",
       "      <th>7</th>\n",
       "    </tr>\n",
       "  </thead>\n",
       "  <tbody>\n",
       "    <tr>\n",
       "      <th>0</th>\n",
       "      <td>1.0</td>\n",
       "      <td>0.0</td>\n",
       "      <td>0.0</td>\n",
       "      <td>1.0</td>\n",
       "      <td>0.0</td>\n",
       "      <td>0.0</td>\n",
       "      <td>0.0</td>\n",
       "      <td>1.0</td>\n",
       "    </tr>\n",
       "    <tr>\n",
       "      <th>1</th>\n",
       "      <td>0.0</td>\n",
       "      <td>1.0</td>\n",
       "      <td>1.0</td>\n",
       "      <td>0.0</td>\n",
       "      <td>0.0</td>\n",
       "      <td>0.0</td>\n",
       "      <td>1.0</td>\n",
       "      <td>0.0</td>\n",
       "    </tr>\n",
       "    <tr>\n",
       "      <th>2</th>\n",
       "      <td>0.0</td>\n",
       "      <td>1.0</td>\n",
       "      <td>1.0</td>\n",
       "      <td>0.0</td>\n",
       "      <td>0.0</td>\n",
       "      <td>0.0</td>\n",
       "      <td>1.0</td>\n",
       "      <td>0.0</td>\n",
       "    </tr>\n",
       "    <tr>\n",
       "      <th>3</th>\n",
       "      <td>0.0</td>\n",
       "      <td>1.0</td>\n",
       "      <td>1.0</td>\n",
       "      <td>0.0</td>\n",
       "      <td>0.0</td>\n",
       "      <td>1.0</td>\n",
       "      <td>0.0</td>\n",
       "      <td>0.0</td>\n",
       "    </tr>\n",
       "    <tr>\n",
       "      <th>4</th>\n",
       "      <td>0.0</td>\n",
       "      <td>1.0</td>\n",
       "      <td>1.0</td>\n",
       "      <td>0.0</td>\n",
       "      <td>0.0</td>\n",
       "      <td>1.0</td>\n",
       "      <td>0.0</td>\n",
       "      <td>0.0</td>\n",
       "    </tr>\n",
       "  </tbody>\n",
       "</table>\n",
       "</div>"
      ],
      "text/plain": [
       "     0    1    2    3    4    5    6    7\n",
       "0  1.0  0.0  0.0  1.0  0.0  0.0  0.0  1.0\n",
       "1  0.0  1.0  1.0  0.0  0.0  0.0  1.0  0.0\n",
       "2  0.0  1.0  1.0  0.0  0.0  0.0  1.0  0.0\n",
       "3  0.0  1.0  1.0  0.0  0.0  1.0  0.0  0.0\n",
       "4  0.0  1.0  1.0  0.0  0.0  1.0  0.0  0.0"
      ]
     },
     "execution_count": 15,
     "metadata": {},
     "output_type": "execute_result"
    }
   ],
   "source": [
    "df2 = pd.DataFrame(df2)\n",
    "df2.head()"
   ]
  },
  {
   "cell_type": "code",
   "execution_count": 16,
   "id": "1d648a35",
   "metadata": {
    "execution": {
     "iopub.execute_input": "2022-06-17T10:04:01.755475Z",
     "iopub.status.busy": "2022-06-17T10:04:01.754829Z",
     "iopub.status.idle": "2022-06-17T10:04:01.779392Z",
     "shell.execute_reply": "2022-06-17T10:04:01.778447Z"
    },
    "papermill": {
     "duration": 0.043006,
     "end_time": "2022-06-17T10:04:01.781742",
     "exception": false,
     "start_time": "2022-06-17T10:04:01.738736",
     "status": "completed"
    },
    "tags": []
   },
   "outputs": [
    {
     "data": {
      "text/html": [
       "<div>\n",
       "<style scoped>\n",
       "    .dataframe tbody tr th:only-of-type {\n",
       "        vertical-align: middle;\n",
       "    }\n",
       "\n",
       "    .dataframe tbody tr th {\n",
       "        vertical-align: top;\n",
       "    }\n",
       "\n",
       "    .dataframe thead th {\n",
       "        text-align: right;\n",
       "    }\n",
       "</style>\n",
       "<table border=\"1\" class=\"dataframe\">\n",
       "  <thead>\n",
       "    <tr style=\"text-align: right;\">\n",
       "      <th></th>\n",
       "      <th>age</th>\n",
       "      <th>sex</th>\n",
       "      <th>bmi</th>\n",
       "      <th>children</th>\n",
       "      <th>smoker</th>\n",
       "      <th>region</th>\n",
       "      <th>charges</th>\n",
       "      <th>Transformed_age</th>\n",
       "      <th>Transformed_bmi</th>\n",
       "      <th>Transformed_children</th>\n",
       "      <th>0</th>\n",
       "      <th>1</th>\n",
       "      <th>2</th>\n",
       "      <th>3</th>\n",
       "      <th>4</th>\n",
       "      <th>5</th>\n",
       "      <th>6</th>\n",
       "      <th>7</th>\n",
       "    </tr>\n",
       "  </thead>\n",
       "  <tbody>\n",
       "    <tr>\n",
       "      <th>0</th>\n",
       "      <td>19</td>\n",
       "      <td>female</td>\n",
       "      <td>27.900</td>\n",
       "      <td>0</td>\n",
       "      <td>yes</td>\n",
       "      <td>southwest</td>\n",
       "      <td>16884.92400</td>\n",
       "      <td>-1.438764</td>\n",
       "      <td>-0.453320</td>\n",
       "      <td>-0.908614</td>\n",
       "      <td>1.0</td>\n",
       "      <td>0.0</td>\n",
       "      <td>0.0</td>\n",
       "      <td>1.0</td>\n",
       "      <td>0.0</td>\n",
       "      <td>0.0</td>\n",
       "      <td>0.0</td>\n",
       "      <td>1.0</td>\n",
       "    </tr>\n",
       "    <tr>\n",
       "      <th>1</th>\n",
       "      <td>18</td>\n",
       "      <td>male</td>\n",
       "      <td>33.770</td>\n",
       "      <td>1</td>\n",
       "      <td>no</td>\n",
       "      <td>southeast</td>\n",
       "      <td>1725.55230</td>\n",
       "      <td>-1.509965</td>\n",
       "      <td>0.509621</td>\n",
       "      <td>-0.078767</td>\n",
       "      <td>0.0</td>\n",
       "      <td>1.0</td>\n",
       "      <td>1.0</td>\n",
       "      <td>0.0</td>\n",
       "      <td>0.0</td>\n",
       "      <td>0.0</td>\n",
       "      <td>1.0</td>\n",
       "      <td>0.0</td>\n",
       "    </tr>\n",
       "    <tr>\n",
       "      <th>2</th>\n",
       "      <td>28</td>\n",
       "      <td>male</td>\n",
       "      <td>33.000</td>\n",
       "      <td>3</td>\n",
       "      <td>no</td>\n",
       "      <td>southeast</td>\n",
       "      <td>4449.46200</td>\n",
       "      <td>-0.797954</td>\n",
       "      <td>0.383307</td>\n",
       "      <td>1.580926</td>\n",
       "      <td>0.0</td>\n",
       "      <td>1.0</td>\n",
       "      <td>1.0</td>\n",
       "      <td>0.0</td>\n",
       "      <td>0.0</td>\n",
       "      <td>0.0</td>\n",
       "      <td>1.0</td>\n",
       "      <td>0.0</td>\n",
       "    </tr>\n",
       "    <tr>\n",
       "      <th>3</th>\n",
       "      <td>33</td>\n",
       "      <td>male</td>\n",
       "      <td>22.705</td>\n",
       "      <td>0</td>\n",
       "      <td>no</td>\n",
       "      <td>northwest</td>\n",
       "      <td>21984.47061</td>\n",
       "      <td>-0.441948</td>\n",
       "      <td>-1.305531</td>\n",
       "      <td>-0.908614</td>\n",
       "      <td>0.0</td>\n",
       "      <td>1.0</td>\n",
       "      <td>1.0</td>\n",
       "      <td>0.0</td>\n",
       "      <td>0.0</td>\n",
       "      <td>1.0</td>\n",
       "      <td>0.0</td>\n",
       "      <td>0.0</td>\n",
       "    </tr>\n",
       "    <tr>\n",
       "      <th>4</th>\n",
       "      <td>32</td>\n",
       "      <td>male</td>\n",
       "      <td>28.880</td>\n",
       "      <td>0</td>\n",
       "      <td>no</td>\n",
       "      <td>northwest</td>\n",
       "      <td>3866.85520</td>\n",
       "      <td>-0.513149</td>\n",
       "      <td>-0.292556</td>\n",
       "      <td>-0.908614</td>\n",
       "      <td>0.0</td>\n",
       "      <td>1.0</td>\n",
       "      <td>1.0</td>\n",
       "      <td>0.0</td>\n",
       "      <td>0.0</td>\n",
       "      <td>1.0</td>\n",
       "      <td>0.0</td>\n",
       "      <td>0.0</td>\n",
       "    </tr>\n",
       "  </tbody>\n",
       "</table>\n",
       "</div>"
      ],
      "text/plain": [
       "   age     sex     bmi  children smoker     region      charges  \\\n",
       "0   19  female  27.900         0    yes  southwest  16884.92400   \n",
       "1   18    male  33.770         1     no  southeast   1725.55230   \n",
       "2   28    male  33.000         3     no  southeast   4449.46200   \n",
       "3   33    male  22.705         0     no  northwest  21984.47061   \n",
       "4   32    male  28.880         0     no  northwest   3866.85520   \n",
       "\n",
       "   Transformed_age  Transformed_bmi  Transformed_children    0    1    2    3  \\\n",
       "0        -1.438764        -0.453320             -0.908614  1.0  0.0  0.0  1.0   \n",
       "1        -1.509965         0.509621             -0.078767  0.0  1.0  1.0  0.0   \n",
       "2        -0.797954         0.383307              1.580926  0.0  1.0  1.0  0.0   \n",
       "3        -0.441948        -1.305531             -0.908614  0.0  1.0  1.0  0.0   \n",
       "4        -0.513149        -0.292556             -0.908614  0.0  1.0  1.0  0.0   \n",
       "\n",
       "     4    5    6    7  \n",
       "0  0.0  0.0  0.0  1.0  \n",
       "1  0.0  0.0  1.0  0.0  \n",
       "2  0.0  0.0  1.0  0.0  \n",
       "3  0.0  1.0  0.0  0.0  \n",
       "4  0.0  1.0  0.0  0.0  "
      ]
     },
     "execution_count": 16,
     "metadata": {},
     "output_type": "execute_result"
    }
   ],
   "source": [
    "newDf = pd.concat([df, df2], axis=1)\n",
    "newDf.head()"
   ]
  },
  {
   "cell_type": "markdown",
   "id": "ed1e4a3f",
   "metadata": {
    "papermill": {
     "duration": 0.015519,
     "end_time": "2022-06-17T10:04:01.813297",
     "exception": false,
     "start_time": "2022-06-17T10:04:01.797778",
     "status": "completed"
    },
    "tags": []
   },
   "source": [
    "### Segregating the features and the target"
   ]
  },
  {
   "cell_type": "code",
   "execution_count": 17,
   "id": "d5dd15a7",
   "metadata": {
    "execution": {
     "iopub.execute_input": "2022-06-17T10:04:01.845155Z",
     "iopub.status.busy": "2022-06-17T10:04:01.844816Z",
     "iopub.status.idle": "2022-06-17T10:04:01.850319Z",
     "shell.execute_reply": "2022-06-17T10:04:01.849546Z"
    },
    "papermill": {
     "duration": 0.023496,
     "end_time": "2022-06-17T10:04:01.852066",
     "exception": false,
     "start_time": "2022-06-17T10:04:01.828570",
     "status": "completed"
    },
    "tags": []
   },
   "outputs": [],
   "source": [
    "newDf.rename(columns={0:'Female', 1:'Male', 2:'Smoker_N', 3:'Smoker_Y', 7:'Southwest', 6:'Southeast', 5:'Northwest', 4:'Northeast'}, inplace=True)"
   ]
  },
  {
   "cell_type": "code",
   "execution_count": 18,
   "id": "f22f3700",
   "metadata": {
    "execution": {
     "iopub.execute_input": "2022-06-17T10:04:01.885272Z",
     "iopub.status.busy": "2022-06-17T10:04:01.884938Z",
     "iopub.status.idle": "2022-06-17T10:04:01.894467Z",
     "shell.execute_reply": "2022-06-17T10:04:01.893578Z"
    },
    "papermill": {
     "duration": 0.028521,
     "end_time": "2022-06-17T10:04:01.896248",
     "exception": false,
     "start_time": "2022-06-17T10:04:01.867727",
     "status": "completed"
    },
    "tags": []
   },
   "outputs": [
    {
     "data": {
      "text/plain": [
       "((1338, 11), (1338, 1))"
      ]
     },
     "execution_count": 18,
     "metadata": {},
     "output_type": "execute_result"
    }
   ],
   "source": [
    "X = newDf[['Transformed_age', 'Transformed_bmi', 'Transformed_children', 'Female', 'Male',\n",
    "          'Smoker_N', 'Smoker_Y', 'Southwest', 'Southeast', 'Northwest', 'Northeast']]\n",
    "Y = newDf[['charges']]\n",
    "\n",
    "X.shape, Y.shape"
   ]
  },
  {
   "cell_type": "markdown",
   "id": "73af411d",
   "metadata": {
    "papermill": {
     "duration": 0.01542,
     "end_time": "2022-06-17T10:04:01.927211",
     "exception": false,
     "start_time": "2022-06-17T10:04:01.911791",
     "status": "completed"
    },
    "tags": []
   },
   "source": [
    "### Making Training and Testing Sets"
   ]
  },
  {
   "cell_type": "code",
   "execution_count": 19,
   "id": "ebaa7bc6",
   "metadata": {
    "execution": {
     "iopub.execute_input": "2022-06-17T10:04:01.960725Z",
     "iopub.status.busy": "2022-06-17T10:04:01.959971Z",
     "iopub.status.idle": "2022-06-17T10:04:02.012708Z",
     "shell.execute_reply": "2022-06-17T10:04:02.011906Z"
    },
    "papermill": {
     "duration": 0.072465,
     "end_time": "2022-06-17T10:04:02.015285",
     "exception": false,
     "start_time": "2022-06-17T10:04:01.942820",
     "status": "completed"
    },
    "tags": []
   },
   "outputs": [
    {
     "name": "stdout",
     "output_type": "stream",
     "text": [
      "(1070, 11) (1070, 1) (268, 11) (268, 1)\n"
     ]
    }
   ],
   "source": [
    "from sklearn.model_selection import train_test_split\n",
    "\n",
    "X_train, X_test, y_train, y_test = train_test_split(X, Y, test_size=.2, random_state=42)\n",
    "print(X_train.shape, y_train.shape, X_test.shape, y_test.shape)"
   ]
  },
  {
   "cell_type": "markdown",
   "id": "fd08fe8d",
   "metadata": {
    "papermill": {
     "duration": 0.015084,
     "end_time": "2022-06-17T10:04:02.046982",
     "exception": false,
     "start_time": "2022-06-17T10:04:02.031898",
     "status": "completed"
    },
    "tags": []
   },
   "source": [
    "## Linear Regression Model"
   ]
  },
  {
   "cell_type": "code",
   "execution_count": 20,
   "id": "10132358",
   "metadata": {
    "execution": {
     "iopub.execute_input": "2022-06-17T10:04:02.078881Z",
     "iopub.status.busy": "2022-06-17T10:04:02.078445Z",
     "iopub.status.idle": "2022-06-17T10:04:02.159388Z",
     "shell.execute_reply": "2022-06-17T10:04:02.158360Z"
    },
    "papermill": {
     "duration": 0.099676,
     "end_time": "2022-06-17T10:04:02.161930",
     "exception": false,
     "start_time": "2022-06-17T10:04:02.062254",
     "status": "completed"
    },
    "tags": []
   },
   "outputs": [
    {
     "data": {
      "text/plain": [
       "(array([[ 3.60914902e+03,  2.05488506e+03,  5.12478869e+02,\n",
       "          9.29584582e+00, -9.29584582e+00, -1.18255644e+04,\n",
       "          1.18255644e+04, -3.50214110e+02, -1.98279052e+02,\n",
       "          8.89079180e+01,  4.59585244e+02]]),\n",
       " array([20302.76532016]))"
      ]
     },
     "execution_count": 20,
     "metadata": {},
     "output_type": "execute_result"
    }
   ],
   "source": [
    "from sklearn.linear_model import LinearRegression\n",
    "\n",
    "lr = LinearRegression()\n",
    "lr.fit(X_train, y_train)\n",
    "\n",
    "lr.coef_, lr.intercept_"
   ]
  },
  {
   "cell_type": "code",
   "execution_count": 21,
   "id": "94d13dfc",
   "metadata": {
    "execution": {
     "iopub.execute_input": "2022-06-17T10:04:02.221632Z",
     "iopub.status.busy": "2022-06-17T10:04:02.221039Z",
     "iopub.status.idle": "2022-06-17T10:04:02.234052Z",
     "shell.execute_reply": "2022-06-17T10:04:02.233133Z"
    },
    "papermill": {
     "duration": 0.045673,
     "end_time": "2022-06-17T10:04:02.236538",
     "exception": false,
     "start_time": "2022-06-17T10:04:02.190865",
     "status": "completed"
    },
    "tags": []
   },
   "outputs": [
    {
     "data": {
      "text/plain": [
       "0.7835929767120722"
      ]
     },
     "execution_count": 21,
     "metadata": {},
     "output_type": "execute_result"
    }
   ],
   "source": [
    "from sklearn.metrics import r2_score\n",
    "y_pred = lr.predict(X_test)\n",
    "r2_score(y_test, y_pred)"
   ]
  },
  {
   "cell_type": "markdown",
   "id": "71ddc3d4",
   "metadata": {
    "papermill": {
     "duration": 0.02317,
     "end_time": "2022-06-17T10:04:02.288793",
     "exception": false,
     "start_time": "2022-06-17T10:04:02.265623",
     "status": "completed"
    },
    "tags": []
   },
   "source": [
    "## Decision Tree Regressor"
   ]
  },
  {
   "cell_type": "code",
   "execution_count": 22,
   "id": "28e768db",
   "metadata": {
    "execution": {
     "iopub.execute_input": "2022-06-17T10:04:02.321305Z",
     "iopub.status.busy": "2022-06-17T10:04:02.320966Z",
     "iopub.status.idle": "2022-06-17T10:04:02.394941Z",
     "shell.execute_reply": "2022-06-17T10:04:02.394087Z"
    },
    "papermill": {
     "duration": 0.092649,
     "end_time": "2022-06-17T10:04:02.396772",
     "exception": false,
     "start_time": "2022-06-17T10:04:02.304123",
     "status": "completed"
    },
    "tags": []
   },
   "outputs": [
    {
     "data": {
      "text/plain": [
       "DecisionTreeRegressor(random_state=42)"
      ]
     },
     "execution_count": 22,
     "metadata": {},
     "output_type": "execute_result"
    }
   ],
   "source": [
    "from sklearn.tree import DecisionTreeRegressor\n",
    "dt = DecisionTreeRegressor(random_state=42)\n",
    "dt.fit(X_train, y_train)"
   ]
  },
  {
   "cell_type": "code",
   "execution_count": 23,
   "id": "d3fb8e4a",
   "metadata": {
    "execution": {
     "iopub.execute_input": "2022-06-17T10:04:02.429814Z",
     "iopub.status.busy": "2022-06-17T10:04:02.429324Z",
     "iopub.status.idle": "2022-06-17T10:04:02.440562Z",
     "shell.execute_reply": "2022-06-17T10:04:02.439476Z"
    },
    "papermill": {
     "duration": 0.030149,
     "end_time": "2022-06-17T10:04:02.442785",
     "exception": false,
     "start_time": "2022-06-17T10:04:02.412636",
     "status": "completed"
    },
    "tags": []
   },
   "outputs": [
    {
     "data": {
      "text/plain": [
       "0.7663917961952711"
      ]
     },
     "execution_count": 23,
     "metadata": {},
     "output_type": "execute_result"
    }
   ],
   "source": [
    "y_predDT = dt.predict(X_test)\n",
    "r2_score(y_test, y_predDT)"
   ]
  },
  {
   "cell_type": "markdown",
   "id": "9ff9f2e6",
   "metadata": {
    "papermill": {
     "duration": 0.015214,
     "end_time": "2022-06-17T10:04:02.473533",
     "exception": false,
     "start_time": "2022-06-17T10:04:02.458319",
     "status": "completed"
    },
    "tags": []
   },
   "source": [
    "## Random Forest Regressor"
   ]
  },
  {
   "cell_type": "code",
   "execution_count": 24,
   "id": "500003c5",
   "metadata": {
    "execution": {
     "iopub.execute_input": "2022-06-17T10:04:02.506236Z",
     "iopub.status.busy": "2022-06-17T10:04:02.505893Z",
     "iopub.status.idle": "2022-06-17T10:04:02.886424Z",
     "shell.execute_reply": "2022-06-17T10:04:02.885496Z"
    },
    "papermill": {
     "duration": 0.399562,
     "end_time": "2022-06-17T10:04:02.888677",
     "exception": false,
     "start_time": "2022-06-17T10:04:02.489115",
     "status": "completed"
    },
    "tags": []
   },
   "outputs": [
    {
     "name": "stderr",
     "output_type": "stream",
     "text": [
      "/opt/conda/lib/python3.7/site-packages/ipykernel_launcher.py:4: DataConversionWarning: A column-vector y was passed when a 1d array was expected. Please change the shape of y to (n_samples,), for example using ravel().\n",
      "  after removing the cwd from sys.path.\n"
     ]
    },
    {
     "data": {
      "text/plain": [
       "RandomForestRegressor(random_state=42)"
      ]
     },
     "execution_count": 24,
     "metadata": {},
     "output_type": "execute_result"
    }
   ],
   "source": [
    "from sklearn.ensemble import RandomForestRegressor\n",
    "\n",
    "rfr = RandomForestRegressor(random_state=42)\n",
    "rfr.fit(X_train, y_train)"
   ]
  },
  {
   "cell_type": "code",
   "execution_count": 25,
   "id": "62fec7a0",
   "metadata": {
    "execution": {
     "iopub.execute_input": "2022-06-17T10:04:02.922102Z",
     "iopub.status.busy": "2022-06-17T10:04:02.921764Z",
     "iopub.status.idle": "2022-06-17T10:04:02.945246Z",
     "shell.execute_reply": "2022-06-17T10:04:02.944415Z"
    },
    "papermill": {
     "duration": 0.04246,
     "end_time": "2022-06-17T10:04:02.947029",
     "exception": false,
     "start_time": "2022-06-17T10:04:02.904569",
     "status": "completed"
    },
    "tags": []
   },
   "outputs": [
    {
     "data": {
      "text/plain": [
       "0.8638922500342494"
      ]
     },
     "execution_count": 25,
     "metadata": {},
     "output_type": "execute_result"
    }
   ],
   "source": [
    "y_predRFR = rfr.predict(X_test)\n",
    "r2_score(y_test, y_predRFR)"
   ]
  },
  {
   "cell_type": "markdown",
   "id": "e81a3b86",
   "metadata": {
    "papermill": {
     "duration": 0.015774,
     "end_time": "2022-06-17T10:04:02.979996",
     "exception": false,
     "start_time": "2022-06-17T10:04:02.964222",
     "status": "completed"
    },
    "tags": []
   },
   "source": [
    "## XGBoost Regressor"
   ]
  },
  {
   "cell_type": "code",
   "execution_count": 26,
   "id": "e51da608",
   "metadata": {
    "execution": {
     "iopub.execute_input": "2022-06-17T10:04:03.013392Z",
     "iopub.status.busy": "2022-06-17T10:04:03.012773Z",
     "iopub.status.idle": "2022-06-17T10:04:05.934384Z",
     "shell.execute_reply": "2022-06-17T10:04:05.933780Z"
    },
    "papermill": {
     "duration": 2.940438,
     "end_time": "2022-06-17T10:04:05.936271",
     "exception": false,
     "start_time": "2022-06-17T10:04:02.995833",
     "status": "completed"
    },
    "tags": []
   },
   "outputs": [
    {
     "data": {
      "text/plain": [
       "XGBRegressor(base_score=0.5, booster='gbtree', callbacks=None,\n",
       "             colsample_bylevel=1, colsample_bynode=1, colsample_bytree=1,\n",
       "             early_stopping_rounds=None, enable_categorical=False,\n",
       "             eval_metric=None, gamma=0, gpu_id=-1, grow_policy='depthwise',\n",
       "             importance_type=None, interaction_constraints='',\n",
       "             learning_rate=0.300000012, max_bin=256, max_cat_to_onehot=4,\n",
       "             max_delta_step=0, max_depth=6, max_leaves=0, min_child_weight=1,\n",
       "             missing=nan, monotone_constraints='()', n_estimators=100, n_jobs=0,\n",
       "             num_parallel_tree=1, predictor='auto', random_state=42,\n",
       "             reg_alpha=0, reg_lambda=1, ...)"
      ]
     },
     "execution_count": 26,
     "metadata": {},
     "output_type": "execute_result"
    }
   ],
   "source": [
    "import xgboost as x\n",
    "\n",
    "xgb = x.XGBRegressor(random_state=42)\n",
    "xgb.fit(X_train, y_train)"
   ]
  },
  {
   "cell_type": "code",
   "execution_count": 27,
   "id": "bb32fc1a",
   "metadata": {
    "execution": {
     "iopub.execute_input": "2022-06-17T10:04:05.971439Z",
     "iopub.status.busy": "2022-06-17T10:04:05.970505Z",
     "iopub.status.idle": "2022-06-17T10:04:05.982873Z",
     "shell.execute_reply": "2022-06-17T10:04:05.982159Z"
    },
    "papermill": {
     "duration": 0.031546,
     "end_time": "2022-06-17T10:04:05.984899",
     "exception": false,
     "start_time": "2022-06-17T10:04:05.953353",
     "status": "completed"
    },
    "tags": []
   },
   "outputs": [
    {
     "data": {
      "text/plain": [
       "0.8421482077823137"
      ]
     },
     "execution_count": 27,
     "metadata": {},
     "output_type": "execute_result"
    }
   ],
   "source": [
    "y_predXGB = xgb.predict(X_test)\n",
    "r2_score(y_test, y_predXGB)"
   ]
  },
  {
   "cell_type": "markdown",
   "id": "34918643",
   "metadata": {
    "papermill": {
     "duration": 0.016081,
     "end_time": "2022-06-17T10:04:06.018296",
     "exception": false,
     "start_time": "2022-06-17T10:04:06.002215",
     "status": "completed"
    },
    "tags": []
   },
   "source": [
    "## Neural Network for Regression"
   ]
  },
  {
   "cell_type": "code",
   "execution_count": 28,
   "id": "5d2b5428",
   "metadata": {
    "execution": {
     "iopub.execute_input": "2022-06-17T10:04:06.052929Z",
     "iopub.status.busy": "2022-06-17T10:04:06.052572Z",
     "iopub.status.idle": "2022-06-17T10:04:06.057909Z",
     "shell.execute_reply": "2022-06-17T10:04:06.057162Z"
    },
    "papermill": {
     "duration": 0.025312,
     "end_time": "2022-06-17T10:04:06.059692",
     "exception": false,
     "start_time": "2022-06-17T10:04:06.034380",
     "status": "completed"
    },
    "tags": []
   },
   "outputs": [
    {
     "data": {
      "text/plain": [
       "(1070, 11)"
      ]
     },
     "execution_count": 28,
     "metadata": {},
     "output_type": "execute_result"
    }
   ],
   "source": [
    "X_train.shape"
   ]
  },
  {
   "cell_type": "code",
   "execution_count": 29,
   "id": "d3a82fe6",
   "metadata": {
    "execution": {
     "iopub.execute_input": "2022-06-17T10:04:06.093968Z",
     "iopub.status.busy": "2022-06-17T10:04:06.093363Z",
     "iopub.status.idle": "2022-06-17T10:04:10.458913Z",
     "shell.execute_reply": "2022-06-17T10:04:10.458054Z"
    },
    "papermill": {
     "duration": 4.385407,
     "end_time": "2022-06-17T10:04:10.461312",
     "exception": false,
     "start_time": "2022-06-17T10:04:06.075905",
     "status": "completed"
    },
    "tags": []
   },
   "outputs": [
    {
     "name": "stdout",
     "output_type": "stream",
     "text": [
      "2.6.4\n"
     ]
    }
   ],
   "source": [
    "import tensorflow as tf\n",
    "print(tf.__version__)"
   ]
  },
  {
   "cell_type": "code",
   "execution_count": 30,
   "id": "ea399744",
   "metadata": {
    "execution": {
     "iopub.execute_input": "2022-06-17T10:04:10.496716Z",
     "iopub.status.busy": "2022-06-17T10:04:10.495613Z",
     "iopub.status.idle": "2022-06-17T10:04:26.616351Z",
     "shell.execute_reply": "2022-06-17T10:04:26.615465Z"
    },
    "papermill": {
     "duration": 16.141575,
     "end_time": "2022-06-17T10:04:26.619330",
     "exception": false,
     "start_time": "2022-06-17T10:04:10.477755",
     "status": "completed"
    },
    "tags": []
   },
   "outputs": [
    {
     "name": "stderr",
     "output_type": "stream",
     "text": [
      "2022-06-17 10:04:11.409754: I tensorflow/stream_executor/cuda/cuda_gpu_executor.cc:937] successful NUMA node read from SysFS had negative value (-1), but there must be at least one NUMA node, so returning NUMA node zero\n",
      "2022-06-17 10:04:11.413735: I tensorflow/stream_executor/cuda/cuda_gpu_executor.cc:937] successful NUMA node read from SysFS had negative value (-1), but there must be at least one NUMA node, so returning NUMA node zero\n",
      "2022-06-17 10:04:11.414426: I tensorflow/stream_executor/cuda/cuda_gpu_executor.cc:937] successful NUMA node read from SysFS had negative value (-1), but there must be at least one NUMA node, so returning NUMA node zero\n",
      "2022-06-17 10:04:11.415510: I tensorflow/core/platform/cpu_feature_guard.cc:142] This TensorFlow binary is optimized with oneAPI Deep Neural Network Library (oneDNN) to use the following CPU instructions in performance-critical operations:  AVX2 AVX512F FMA\n",
      "To enable them in other operations, rebuild TensorFlow with the appropriate compiler flags.\n",
      "2022-06-17 10:04:11.415811: I tensorflow/stream_executor/cuda/cuda_gpu_executor.cc:937] successful NUMA node read from SysFS had negative value (-1), but there must be at least one NUMA node, so returning NUMA node zero\n",
      "2022-06-17 10:04:11.416502: I tensorflow/stream_executor/cuda/cuda_gpu_executor.cc:937] successful NUMA node read from SysFS had negative value (-1), but there must be at least one NUMA node, so returning NUMA node zero\n",
      "2022-06-17 10:04:11.417129: I tensorflow/stream_executor/cuda/cuda_gpu_executor.cc:937] successful NUMA node read from SysFS had negative value (-1), but there must be at least one NUMA node, so returning NUMA node zero\n",
      "2022-06-17 10:04:15.516417: I tensorflow/stream_executor/cuda/cuda_gpu_executor.cc:937] successful NUMA node read from SysFS had negative value (-1), but there must be at least one NUMA node, so returning NUMA node zero\n",
      "2022-06-17 10:04:15.517261: I tensorflow/stream_executor/cuda/cuda_gpu_executor.cc:937] successful NUMA node read from SysFS had negative value (-1), but there must be at least one NUMA node, so returning NUMA node zero\n",
      "2022-06-17 10:04:15.517912: I tensorflow/stream_executor/cuda/cuda_gpu_executor.cc:937] successful NUMA node read from SysFS had negative value (-1), but there must be at least one NUMA node, so returning NUMA node zero\n",
      "2022-06-17 10:04:15.518505: I tensorflow/core/common_runtime/gpu/gpu_device.cc:1510] Created device /job:localhost/replica:0/task:0/device:GPU:0 with 15187 MB memory:  -> device: 0, name: Tesla P100-PCIE-16GB, pci bus id: 0000:00:04.0, compute capability: 6.0\n",
      "2022-06-17 10:04:15.992431: I tensorflow/compiler/mlir/mlir_graph_optimization_pass.cc:185] None of the MLIR Optimization Passes are enabled (registered 2)\n"
     ]
    }
   ],
   "source": [
    "tf.random.set_seed(42)\n",
    "\n",
    "model = tf.keras.Sequential([\n",
    "    tf.keras.layers.Dense(units=32, input_shape=(1070,11)),\n",
    "    tf.keras.layers.Dense(units=64),\n",
    "    tf.keras.layers.Dense(units=1)\n",
    "])\n",
    "\n",
    "model.compile(loss='mae', optimizer=tf.keras.optimizers.Adam(learning_rate=.01), metrics=['mae'])\n",
    "history = model.fit(X_train, y_train, epochs=100, verbose=0)"
   ]
  },
  {
   "cell_type": "code",
   "execution_count": 31,
   "id": "ee7e1b14",
   "metadata": {
    "execution": {
     "iopub.execute_input": "2022-06-17T10:04:26.684114Z",
     "iopub.status.busy": "2022-06-17T10:04:26.683597Z",
     "iopub.status.idle": "2022-06-17T10:04:26.689841Z",
     "shell.execute_reply": "2022-06-17T10:04:26.689076Z"
    },
    "papermill": {
     "duration": 0.041438,
     "end_time": "2022-06-17T10:04:26.695624",
     "exception": false,
     "start_time": "2022-06-17T10:04:26.654186",
     "status": "completed"
    },
    "tags": []
   },
   "outputs": [
    {
     "name": "stdout",
     "output_type": "stream",
     "text": [
      "Model: \"sequential\"\n",
      "_________________________________________________________________\n",
      "Layer (type)                 Output Shape              Param #   \n",
      "=================================================================\n",
      "dense (Dense)                (None, 1070, 32)          384       \n",
      "_________________________________________________________________\n",
      "dense_1 (Dense)              (None, 1070, 64)          2112      \n",
      "_________________________________________________________________\n",
      "dense_2 (Dense)              (None, 1070, 1)           65        \n",
      "=================================================================\n",
      "Total params: 2,561\n",
      "Trainable params: 2,561\n",
      "Non-trainable params: 0\n",
      "_________________________________________________________________\n"
     ]
    }
   ],
   "source": [
    "model.summary()"
   ]
  },
  {
   "cell_type": "code",
   "execution_count": 32,
   "id": "de06f012",
   "metadata": {
    "execution": {
     "iopub.execute_input": "2022-06-17T10:04:26.751162Z",
     "iopub.status.busy": "2022-06-17T10:04:26.750732Z",
     "iopub.status.idle": "2022-06-17T10:04:26.926772Z",
     "shell.execute_reply": "2022-06-17T10:04:26.925973Z"
    },
    "papermill": {
     "duration": 0.206074,
     "end_time": "2022-06-17T10:04:26.929284",
     "exception": false,
     "start_time": "2022-06-17T10:04:26.723210",
     "status": "completed"
    },
    "tags": []
   },
   "outputs": [
    {
     "data": {
      "text/plain": [
       "0.7239241600319517"
      ]
     },
     "execution_count": 32,
     "metadata": {},
     "output_type": "execute_result"
    }
   ],
   "source": [
    "y_predNN = model.predict(X_test)\n",
    "r2_score(y_test, y_predNN)"
   ]
  },
  {
   "cell_type": "code",
   "execution_count": 33,
   "id": "ce9fa874",
   "metadata": {
    "execution": {
     "iopub.execute_input": "2022-06-17T10:04:26.986164Z",
     "iopub.status.busy": "2022-06-17T10:04:26.985715Z",
     "iopub.status.idle": "2022-06-17T10:04:27.278524Z",
     "shell.execute_reply": "2022-06-17T10:04:27.277765Z"
    },
    "papermill": {
     "duration": 0.325429,
     "end_time": "2022-06-17T10:04:27.280991",
     "exception": false,
     "start_time": "2022-06-17T10:04:26.955562",
     "status": "completed"
    },
    "tags": []
   },
   "outputs": [
    {
     "name": "stdout",
     "output_type": "stream",
     "text": [
      "9/9 [==============================] - 0s 3ms/step - loss: 3189.3088 - mae: 3189.3088\n"
     ]
    },
    {
     "data": {
      "text/plain": [
       "[3189.308837890625, 3189.308837890625]"
      ]
     },
     "execution_count": 33,
     "metadata": {},
     "output_type": "execute_result"
    }
   ],
   "source": [
    "model.evaluate(X_test, y_test)"
   ]
  },
  {
   "cell_type": "code",
   "execution_count": 34,
   "id": "f210eb06",
   "metadata": {
    "execution": {
     "iopub.execute_input": "2022-06-17T10:04:27.338682Z",
     "iopub.status.busy": "2022-06-17T10:04:27.338226Z",
     "iopub.status.idle": "2022-06-17T10:04:27.639836Z",
     "shell.execute_reply": "2022-06-17T10:04:27.639084Z"
    },
    "papermill": {
     "duration": 0.332692,
     "end_time": "2022-06-17T10:04:27.642259",
     "exception": false,
     "start_time": "2022-06-17T10:04:27.309567",
     "status": "completed"
    },
    "tags": []
   },
   "outputs": [
    {
     "data": {
      "text/plain": [
       "Text(0, 0.5, 'Loss')"
      ]
     },
     "execution_count": 34,
     "metadata": {},
     "output_type": "execute_result"
    },
    {
     "data": {
      "text/plain": [
       "<Figure size 720x504 with 0 Axes>"
      ]
     },
     "metadata": {},
     "output_type": "display_data"
    },
    {
     "data": {
      "image/png": "[encoded data removed]",
      "text/plain": [
       "<Figure size 432x288 with 1 Axes>"
      ]
     },
     "metadata": {},
     "output_type": "display_data"
    }
   ],
   "source": [
    "##Plotting the loss curve\n",
    "plt.figure(figsize=(10,7))\n",
    "pd.DataFrame(history.history).plot()\n",
    "plt.xlabel('Epochs')\n",
    "plt.ylabel('Loss')"
   ]
  },
  {
   "cell_type": "code",
   "execution_count": 35,
   "id": "7a597a49",
   "metadata": {
    "execution": {
     "iopub.execute_input": "2022-06-17T10:04:27.700355Z",
     "iopub.status.busy": "2022-06-17T10:04:27.700016Z",
     "iopub.status.idle": "2022-06-17T10:04:27.710647Z",
     "shell.execute_reply": "2022-06-17T10:04:27.709774Z"
    },
    "papermill": {
     "duration": 0.03965,
     "end_time": "2022-06-17T10:04:27.713442",
     "exception": false,
     "start_time": "2022-06-17T10:04:27.673792",
     "status": "completed"
    },
    "tags": []
   },
   "outputs": [
    {
     "data": {
      "text/html": [
       "<div>\n",
       "<style scoped>\n",
       "    .dataframe tbody tr th:only-of-type {\n",
       "        vertical-align: middle;\n",
       "    }\n",
       "\n",
       "    .dataframe tbody tr th {\n",
       "        vertical-align: top;\n",
       "    }\n",
       "\n",
       "    .dataframe thead th {\n",
       "        text-align: right;\n",
       "    }\n",
       "</style>\n",
       "<table border=\"1\" class=\"dataframe\">\n",
       "  <thead>\n",
       "    <tr style=\"text-align: right;\">\n",
       "      <th></th>\n",
       "      <th>Models</th>\n",
       "      <th>r2_score</th>\n",
       "    </tr>\n",
       "  </thead>\n",
       "  <tbody>\n",
       "    <tr>\n",
       "      <th>0</th>\n",
       "      <td>Linear Regression</td>\n",
       "      <td>0.783593</td>\n",
       "    </tr>\n",
       "    <tr>\n",
       "      <th>1</th>\n",
       "      <td>Decision Tree Regression</td>\n",
       "      <td>0.766392</td>\n",
       "    </tr>\n",
       "    <tr>\n",
       "      <th>2</th>\n",
       "      <td>Random Forest Regression</td>\n",
       "      <td>0.863892</td>\n",
       "    </tr>\n",
       "    <tr>\n",
       "      <th>3</th>\n",
       "      <td>XGBoost Regression</td>\n",
       "      <td>0.842148</td>\n",
       "    </tr>\n",
       "    <tr>\n",
       "      <th>4</th>\n",
       "      <td>Neural Network</td>\n",
       "      <td>0.723924</td>\n",
       "    </tr>\n",
       "  </tbody>\n",
       "</table>\n",
       "</div>"
      ],
      "text/plain": [
       "                     Models  r2_score\n",
       "0         Linear Regression  0.783593\n",
       "1  Decision Tree Regression  0.766392\n",
       "2  Random Forest Regression  0.863892\n",
       "3        XGBoost Regression  0.842148\n",
       "4            Neural Network  0.723924"
      ]
     },
     "execution_count": 35,
     "metadata": {},
     "output_type": "execute_result"
    }
   ],
   "source": [
    "results = pd.DataFrame({'Models':['Linear Regression', 'Decision Tree Regression', 'Random Forest Regression', 'XGBoost Regression', 'Neural Network'],\n",
    "                       'r2_score':[0.7835929767120723, 0.7663917961952711, 0.8638922500342494, 0.8421482077823137, 0.723923944716834]})\n",
    "results"
   ]
  },
  {
   "cell_type": "code",
   "execution_count": 36,
   "id": "fef427ee",
   "metadata": {
    "execution": {
     "iopub.execute_input": "2022-06-17T10:04:27.749525Z",
     "iopub.status.busy": "2022-06-17T10:04:27.749194Z",
     "iopub.status.idle": "2022-06-17T10:04:27.950161Z",
     "shell.execute_reply": "2022-06-17T10:04:27.949424Z"
    },
    "papermill": {
     "duration": 0.221247,
     "end_time": "2022-06-17T10:04:27.952220",
     "exception": false,
     "start_time": "2022-06-17T10:04:27.730973",
     "status": "completed"
    },
    "tags": []
   },
   "outputs": [
    {
     "data": {
      "text/plain": [
       "<AxesSubplot:xlabel='Models', ylabel='r2_score'>"
      ]
     },
     "execution_count": 36,
     "metadata": {},
     "output_type": "execute_result"
    },
    {
     "data": {
      "image/png": "[encoded data removed]",
      "text/plain": [
       "<Figure size 720x504 with 1 Axes>"
      ]
     },
     "metadata": {},
     "output_type": "display_data"
    }
   ],
   "source": [
    "plt.figure(figsize=(10,7))\n",
    "plt.xticks(rotation=15)\n",
    "\n",
    "sns.barplot(x=results.Models, y=results.r2_score)"
   ]
  },
  {
   "cell_type": "markdown",
   "id": "c204cf94",
   "metadata": {
    "papermill": {
     "duration": 0.017793,
     "end_time": "2022-06-17T10:04:27.987787",
     "exception": false,
     "start_time": "2022-06-17T10:04:27.969994",
     "status": "completed"
    },
    "tags": []
   },
   "source": [
    "**Results-** The best performing model is Random Forest Regressor with an R2_Score of 0.8638922500342494 followed by XGBoost Regressor and others. The worst performing model is the Neural Network. This could be because of the smaller size of the dataset.\n",
    "\n",
    "**NOTE** - No hyperparameter tuning is done for any of the models"
   ]
  },
  {
   "cell_type": "code",
   "execution_count": null,
   "id": "92f6528e",
   "metadata": {
    "papermill": {
     "duration": 0.017278,
     "end_time": "2022-06-17T10:04:28.022649",
     "exception": false,
     "start_time": "2022-06-17T10:04:28.005371",
     "status": "completed"
    },
    "tags": []
   },
   "outputs": [],
   "source": []
  }
 ],
 "metadata": {
  "kernelspec": {
   "display_name": "Python 3",
   "language": "python",
   "name": "python3"
  },
  "language_info": {
   "codemirror_mode": {
    "name": "ipython",
    "version": 3
   },
   "file_extension": ".py",
   "mimetype": "text/x-python",
   "name": "python",
   "nbconvert_exporter": "python",
   "pygments_lexer": "ipython3",
   "version": "3.7.12"
  },
  "papermill": {
   "default_parameters": {},
   "duration": 44.36206,
   "end_time": "2022-06-17T10:04:31.703960",
   "environment_variables": {},
   "exception": null,
   "input_path": "__notebook__.ipynb",
   "output_path": "__notebook__.ipynb",
   "parameters": {},
   "start_time": "2022-06-17T10:03:47.341900",
   "version": "2.3.4"
  }
 },
 "nbformat": 4,
 "nbformat_minor": 5
}
