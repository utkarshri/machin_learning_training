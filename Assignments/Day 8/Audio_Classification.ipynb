{
  "metadata": {
    "kernelspec": {
      "language": "python",
      "display_name": "Python 3",
      "name": "python3"
    },
    "language_info": {
      "name": "python",
      "version": "3.7.12",
      "mimetype": "text/x-python",
      "codemirror_mode": {
        "name": "ipython",
        "version": 3
      },
      "pygments_lexer": "ipython3",
      "nbconvert_exporter": "python",
      "file_extension": ".py"
    },
    "colab": {
      "name": "Audio Classification.ipynb",
      "provenance": [],
      "collapsed_sections": [],
      "include_colab_link": true
    }
  },
  "nbformat_minor": 0,
  "nbformat": 4,
  "cells": [
    {
      "cell_type": "markdown",
      "metadata": {
        "id": "view-in-github",
        "colab_type": "text"
      },
      "source": [
        "<a href=\"https://colab.research.google.com/github/vkate1/Summer-Training-for-III-year/blob/main/Day8/Project/Audio_Classification.ipynb\" target=\"_parent\"><img src=\"https://colab.research.google.com/assets/colab-badge.svg\" alt=\"Open In Colab\"/></a>"
      ]
    },
    {
      "cell_type": "code",
      "source": [
        "!pip install librosa"
      ],
      "metadata": {
        "execution": {
          "iopub.status.busy": "2022-06-24T12:24:19.199037Z",
          "iopub.execute_input": "2022-06-24T12:24:19.199903Z",
          "iopub.status.idle": "2022-06-24T12:24:30.226421Z",
          "shell.execute_reply.started": "2022-06-24T12:24:19.199852Z",
          "shell.execute_reply": "2022-06-24T12:24:30.225435Z"
        },
        "trusted": true,
        "colab": {
          "base_uri": "https://localhost:8080/"
        },
        "id": "nuQKo5ms4z_r",
        "outputId": "525f936b-ce8b-45d2-dabb-dc1bff0f76a2"
      },
      "execution_count": 1,
      "outputs": [
        {
          "output_type": "stream",
          "name": "stdout",
          "text": [
            "Looking in indexes: https://pypi.org/simple, https://us-python.pkg.dev/colab-wheels/public/simple/\n",
            "Requirement already satisfied: librosa in /usr/local/lib/python3.7/dist-packages (0.8.1)\n",
            "Requirement already satisfied: joblib>=0.14 in /usr/local/lib/python3.7/dist-packages (from librosa) (1.1.0)\n",
            "Requirement already satisfied: audioread>=2.0.0 in /usr/local/lib/python3.7/dist-packages (from librosa) (2.1.9)\n",
            "Requirement already satisfied: soundfile>=0.10.2 in /usr/local/lib/python3.7/dist-packages (from librosa) (0.10.3.post1)\n",
            "Requirement already satisfied: decorator>=3.0.0 in /usr/local/lib/python3.7/dist-packages (from librosa) (4.4.2)\n",
            "Requirement already satisfied: numba>=0.43.0 in /usr/local/lib/python3.7/dist-packages (from librosa) (0.51.2)\n",
            "Requirement already satisfied: scipy>=1.0.0 in /usr/local/lib/python3.7/dist-packages (from librosa) (1.4.1)\n",
            "Requirement already satisfied: scikit-learn!=0.19.0,>=0.14.0 in /usr/local/lib/python3.7/dist-packages (from librosa) (1.0.2)\n",
            "Requirement already satisfied: numpy>=1.15.0 in /usr/local/lib/python3.7/dist-packages (from librosa) (1.21.6)\n",
            "Requirement already satisfied: resampy>=0.2.2 in /usr/local/lib/python3.7/dist-packages (from librosa) (0.2.2)\n",
            "Requirement already satisfied: packaging>=20.0 in /usr/local/lib/python3.7/dist-packages (from librosa) (21.3)\n",
            "Requirement already satisfied: pooch>=1.0 in /usr/local/lib/python3.7/dist-packages (from librosa) (1.6.0)\n",
            "Requirement already satisfied: setuptools in /usr/local/lib/python3.7/dist-packages (from numba>=0.43.0->librosa) (57.4.0)\n",
            "Requirement already satisfied: llvmlite<0.35,>=0.34.0.dev0 in /usr/local/lib/python3.7/dist-packages (from numba>=0.43.0->librosa) (0.34.0)\n",
            "Requirement already satisfied: pyparsing!=3.0.5,>=2.0.2 in /usr/local/lib/python3.7/dist-packages (from packaging>=20.0->librosa) (3.0.9)\n",
            "Requirement already satisfied: appdirs>=1.3.0 in /usr/local/lib/python3.7/dist-packages (from pooch>=1.0->librosa) (1.4.4)\n",
            "Requirement already satisfied: requests>=2.19.0 in /usr/local/lib/python3.7/dist-packages (from pooch>=1.0->librosa) (2.23.0)\n",
            "Requirement already satisfied: certifi>=2017.4.17 in /usr/local/lib/python3.7/dist-packages (from requests>=2.19.0->pooch>=1.0->librosa) (2022.6.15)\n",
            "Requirement already satisfied: idna<3,>=2.5 in /usr/local/lib/python3.7/dist-packages (from requests>=2.19.0->pooch>=1.0->librosa) (2.10)\n",
            "Requirement already satisfied: chardet<4,>=3.0.2 in /usr/local/lib/python3.7/dist-packages (from requests>=2.19.0->pooch>=1.0->librosa) (3.0.4)\n",
            "Requirement already satisfied: urllib3!=1.25.0,!=1.25.1,<1.26,>=1.21.1 in /usr/local/lib/python3.7/dist-packages (from requests>=2.19.0->pooch>=1.0->librosa) (1.24.3)\n",
            "Requirement already satisfied: six>=1.3 in /usr/local/lib/python3.7/dist-packages (from resampy>=0.2.2->librosa) (1.15.0)\n",
            "Requirement already satisfied: threadpoolctl>=2.0.0 in /usr/local/lib/python3.7/dist-packages (from scikit-learn!=0.19.0,>=0.14.0->librosa) (3.1.0)\n",
            "Requirement already satisfied: cffi>=1.0 in /usr/local/lib/python3.7/dist-packages (from soundfile>=0.10.2->librosa) (1.15.0)\n",
            "Requirement already satisfied: pycparser in /usr/local/lib/python3.7/dist-packages (from cffi>=1.0->soundfile>=0.10.2->librosa) (2.21)\n"
          ]
        }
      ]
    },
    {
      "cell_type": "code",
      "source": [
        "import matplotlib.pyplot as plt\n",
        "%matplotlib inline"
      ],
      "metadata": {
        "execution": {
          "iopub.status.busy": "2022-06-24T14:01:37.194974Z",
          "iopub.execute_input": "2022-06-24T14:01:37.195444Z",
          "iopub.status.idle": "2022-06-24T14:01:37.203045Z",
          "shell.execute_reply.started": "2022-06-24T14:01:37.195409Z",
          "shell.execute_reply": "2022-06-24T14:01:37.201991Z"
        },
        "trusted": true,
        "id": "cCjNfwU_4z_v"
      },
      "execution_count": null,
      "outputs": []
    },
    {
      "cell_type": "code",
      "source": [
        "filename='../input/urbansound8k/fold3/102105-3-0-0.wav'"
      ],
      "metadata": {
        "execution": {
          "iopub.status.busy": "2022-06-24T14:01:39.837278Z",
          "iopub.execute_input": "2022-06-24T14:01:39.837956Z",
          "iopub.status.idle": "2022-06-24T14:01:39.842845Z",
          "shell.execute_reply.started": "2022-06-24T14:01:39.837919Z",
          "shell.execute_reply": "2022-06-24T14:01:39.841762Z"
        },
        "trusted": true,
        "id": "tkiq5i8R4z_w"
      },
      "execution_count": null,
      "outputs": []
    },
    {
      "cell_type": "code",
      "source": [
        "import IPython.display as ipd\n",
        "import librosa\n",
        "import librosa.display"
      ],
      "metadata": {
        "execution": {
          "iopub.status.busy": "2022-06-24T14:01:41.823985Z",
          "iopub.execute_input": "2022-06-24T14:01:41.824665Z",
          "iopub.status.idle": "2022-06-24T14:01:41.830397Z",
          "shell.execute_reply.started": "2022-06-24T14:01:41.824628Z",
          "shell.execute_reply": "2022-06-24T14:01:41.829073Z"
        },
        "trusted": true,
        "id": "PGbgJKdK4z_w"
      },
      "execution_count": null,
      "outputs": []
    },
    {
      "cell_type": "code",
      "source": [
        "## Dog Sound\n",
        "plt.figure(figsize=(14,5))\n",
        "import librosa\n",
        "audio_file_path='../input/urbansound8k/fold7/101848-9-0-0.wav'\n",
        "librosa_audio_data,librosa_sample_rate=librosa.load(audio_file_path)"
      ],
      "metadata": {
        "execution": {
          "iopub.status.busy": "2022-06-24T14:04:14.344265Z",
          "iopub.execute_input": "2022-06-24T14:04:14.344687Z",
          "iopub.status.idle": "2022-06-24T14:04:14.562743Z",
          "shell.execute_reply.started": "2022-06-24T14:04:14.344653Z",
          "shell.execute_reply": "2022-06-24T14:04:14.560968Z"
        },
        "trusted": true,
        "id": "LxXOjTRK4z_x"
      },
      "execution_count": null,
      "outputs": []
    },
    {
      "cell_type": "code",
      "source": [
        "### Sound\n",
        "filename='../input/urbansound8k/fold7/101848-9-0-1.wav'\n",
        "plt.figure(figsize=(14,5))\n",
        "data,sample_rate=librosa.load(filename)\n",
        "librosa.display.waveshow(data,sr=sample_rate)\n",
        "ipd.Audio(filename)"
      ],
      "metadata": {
        "execution": {
          "iopub.status.busy": "2022-06-24T13:30:50.116988Z",
          "iopub.execute_input": "2022-06-24T13:30:50.117445Z",
          "iopub.status.idle": "2022-06-24T13:30:50.831942Z",
          "shell.execute_reply.started": "2022-06-24T13:30:50.117411Z",
          "shell.execute_reply": "2022-06-24T13:30:50.830191Z"
        },
        "trusted": true,
        "id": "5MwSr19D4z_x"
      },
      "execution_count": null,
      "outputs": []
    },
    {
      "cell_type": "code",
      "source": [
        "sample_rate"
      ],
      "metadata": {
        "execution": {
          "iopub.status.busy": "2022-06-24T12:28:38.969299Z",
          "iopub.execute_input": "2022-06-24T12:28:38.969810Z",
          "iopub.status.idle": "2022-06-24T12:28:38.979130Z",
          "shell.execute_reply.started": "2022-06-24T12:28:38.969770Z",
          "shell.execute_reply": "2022-06-24T12:28:38.977546Z"
        },
        "trusted": true,
        "id": "s2UximNG4z_y"
      },
      "execution_count": null,
      "outputs": []
    },
    {
      "cell_type": "code",
      "source": [
        "from scipy.io import wavfile as wav\n",
        "wave_sample_rate, wave_audio=wav.read(filename)"
      ],
      "metadata": {
        "execution": {
          "iopub.status.busy": "2022-06-24T12:28:59.908845Z",
          "iopub.execute_input": "2022-06-24T12:28:59.909306Z",
          "iopub.status.idle": "2022-06-24T12:28:59.980494Z",
          "shell.execute_reply.started": "2022-06-24T12:28:59.909275Z",
          "shell.execute_reply": "2022-06-24T12:28:59.979140Z"
        },
        "trusted": true,
        "id": "GPeuhHAN4z_z"
      },
      "execution_count": null,
      "outputs": []
    },
    {
      "cell_type": "code",
      "source": [
        "wave_sample_rate"
      ],
      "metadata": {
        "execution": {
          "iopub.status.busy": "2022-06-24T12:29:14.187689Z",
          "iopub.execute_input": "2022-06-24T12:29:14.188202Z",
          "iopub.status.idle": "2022-06-24T12:29:14.197085Z",
          "shell.execute_reply.started": "2022-06-24T12:29:14.188165Z",
          "shell.execute_reply": "2022-06-24T12:29:14.195701Z"
        },
        "trusted": true,
        "id": "-bquME6L4z_0"
      },
      "execution_count": null,
      "outputs": []
    },
    {
      "cell_type": "code",
      "source": [
        "wave_audio"
      ],
      "metadata": {
        "execution": {
          "iopub.status.busy": "2022-06-24T12:29:29.452088Z",
          "iopub.execute_input": "2022-06-24T12:29:29.452485Z",
          "iopub.status.idle": "2022-06-24T12:29:29.462669Z",
          "shell.execute_reply.started": "2022-06-24T12:29:29.452455Z",
          "shell.execute_reply": "2022-06-24T12:29:29.461150Z"
        },
        "trusted": true,
        "id": "RRe1hTqa4z_0"
      },
      "execution_count": null,
      "outputs": []
    },
    {
      "cell_type": "code",
      "source": [
        "import matplotlib.pyplot as plt\n",
        "\n",
        "# Original audio with 2 channels \n",
        "plt.figure(figsize=(12, 4))\n",
        "plt.plot(wave_audio)"
      ],
      "metadata": {
        "execution": {
          "iopub.status.busy": "2022-06-24T13:30:14.904378Z",
          "iopub.execute_input": "2022-06-24T13:30:14.904873Z",
          "iopub.status.idle": "2022-06-24T13:30:15.226237Z",
          "shell.execute_reply.started": "2022-06-24T13:30:14.904836Z",
          "shell.execute_reply": "2022-06-24T13:30:15.225307Z"
        },
        "trusted": true,
        "id": "Nm6ChmMD4z_1"
      },
      "execution_count": null,
      "outputs": []
    },
    {
      "cell_type": "code",
      "source": [
        "data"
      ],
      "metadata": {
        "execution": {
          "iopub.status.busy": "2022-06-24T12:29:50.352392Z",
          "iopub.execute_input": "2022-06-24T12:29:50.352845Z",
          "iopub.status.idle": "2022-06-24T12:29:50.361568Z",
          "shell.execute_reply.started": "2022-06-24T12:29:50.352811Z",
          "shell.execute_reply": "2022-06-24T12:29:50.360409Z"
        },
        "trusted": true,
        "id": "SgeuWwGA4z_1"
      },
      "execution_count": null,
      "outputs": []
    },
    {
      "cell_type": "code",
      "source": [
        "import pandas as pd\n",
        "\n",
        "metadata=pd.read_csv('../input/urbansound8k/UrbanSound8K.csv')\n",
        "metadata.head(10)"
      ],
      "metadata": {
        "execution": {
          "iopub.status.busy": "2022-06-24T12:36:32.900488Z",
          "iopub.execute_input": "2022-06-24T12:36:32.901890Z",
          "iopub.status.idle": "2022-06-24T12:36:32.971373Z",
          "shell.execute_reply.started": "2022-06-24T12:36:32.901834Z",
          "shell.execute_reply": "2022-06-24T12:36:32.969920Z"
        },
        "trusted": true,
        "id": "CPtTVxFp4z_1"
      },
      "execution_count": null,
      "outputs": []
    },
    {
      "cell_type": "code",
      "source": [
        "### Check whether the dataset is imbalanced\n",
        "metadata['class'].value_counts()"
      ],
      "metadata": {
        "execution": {
          "iopub.status.busy": "2022-06-24T12:48:48.889631Z",
          "iopub.execute_input": "2022-06-24T12:48:48.890694Z",
          "iopub.status.idle": "2022-06-24T12:48:48.910519Z",
          "shell.execute_reply.started": "2022-06-24T12:48:48.890637Z",
          "shell.execute_reply": "2022-06-24T12:48:48.909209Z"
        },
        "trusted": true,
        "id": "ClBYGUaK4z_2"
      },
      "execution_count": null,
      "outputs": []
    },
    {
      "cell_type": "code",
      "source": [
        "mfccs = librosa.feature.mfcc(y=librosa_audio_data, sr=librosa_sample_rate, n_mfcc=40)\n",
        "print(mfccs.shape)"
      ],
      "metadata": {
        "execution": {
          "iopub.status.busy": "2022-06-24T14:04:26.476299Z",
          "iopub.execute_input": "2022-06-24T14:04:26.476746Z",
          "iopub.status.idle": "2022-06-24T14:04:26.510800Z",
          "shell.execute_reply.started": "2022-06-24T14:04:26.476685Z",
          "shell.execute_reply": "2022-06-24T14:04:26.509038Z"
        },
        "trusted": true,
        "id": "YI4t0rGP4z_2"
      },
      "execution_count": null,
      "outputs": []
    },
    {
      "cell_type": "code",
      "source": [
        "#### Extracting MFCC's For every audio file\n",
        "import pandas as pd\n",
        "import os\n",
        "import librosa\n",
        "\n",
        "audio_dataset_path='../input/urbansound8k/'\n",
        "metadata=pd.read_csv('../input/urbansound8k/UrbanSound8K.csv')\n",
        "metadata.head()"
      ],
      "metadata": {
        "execution": {
          "iopub.status.busy": "2022-06-24T14:12:09.228137Z",
          "iopub.execute_input": "2022-06-24T14:12:09.228571Z",
          "iopub.status.idle": "2022-06-24T14:12:09.267492Z",
          "shell.execute_reply.started": "2022-06-24T14:12:09.228537Z",
          "shell.execute_reply": "2022-06-24T14:12:09.266077Z"
        },
        "trusted": true,
        "id": "9tgTv7c14z_2"
      },
      "execution_count": null,
      "outputs": []
    },
    {
      "cell_type": "code",
      "source": [
        "def features_extractor(file):\n",
        "    audio, sample_rate = librosa.load(file_name, res_type='kaiser_fast') \n",
        "    mfccs_features = librosa.feature.mfcc(y=audio, sr=sample_rate, n_mfcc=40)\n",
        "    mfccs_scaled_features = np.mean(mfccs_features.T,axis=0)\n",
        "    \n",
        "    return mfccs_scaled_features\n",
        "    "
      ],
      "metadata": {
        "execution": {
          "iopub.status.busy": "2022-06-24T14:09:37.872910Z",
          "iopub.execute_input": "2022-06-24T14:09:37.874479Z",
          "iopub.status.idle": "2022-06-24T14:09:37.882389Z",
          "shell.execute_reply.started": "2022-06-24T14:09:37.874421Z",
          "shell.execute_reply": "2022-06-24T14:09:37.880776Z"
        },
        "trusted": true,
        "id": "qEamaJZH4z_3"
      },
      "execution_count": null,
      "outputs": []
    },
    {
      "cell_type": "code",
      "source": [
        "import numpy as np\n",
        "from tqdm import tqdm\n",
        "### Now we iterate through every audio file and extract features \n",
        "### using Mel-Frequency Cepstral Coefficients\n",
        "extracted_features=[]\n",
        "for index_num,row in tqdm(metadata.iterrows()):\n",
        "    file_name = os.path.join(os.path.abspath(audio_dataset_path),'fold'+str(row[\"fold\"])+'/',str(row[\"slice_file_name\"]))\n",
        "    final_class_labels=row[\"class\"]\n",
        "    data=features_extractor(file_name)\n",
        "    extracted_features.append([data,final_class_labels])"
      ],
      "metadata": {
        "execution": {
          "iopub.status.busy": "2022-06-24T14:12:16.782243Z",
          "iopub.execute_input": "2022-06-24T14:12:16.782639Z",
          "iopub.status.idle": "2022-06-24T14:29:57.367489Z",
          "shell.execute_reply.started": "2022-06-24T14:12:16.782609Z",
          "shell.execute_reply": "2022-06-24T14:29:57.364633Z"
        },
        "trusted": true,
        "id": "W_dy7UUk4z_3"
      },
      "execution_count": null,
      "outputs": []
    },
    {
      "cell_type": "code",
      "source": [
        "### converting extracted_features to Pandas dataframe\n",
        "extracted_features_df=pd.DataFrame(extracted_features,columns=['feature','class'])\n",
        "extracted_features_df.head()"
      ],
      "metadata": {
        "execution": {
          "iopub.status.busy": "2022-06-24T14:41:14.272270Z",
          "iopub.execute_input": "2022-06-24T14:41:14.273051Z",
          "iopub.status.idle": "2022-06-24T14:41:14.305937Z",
          "shell.execute_reply.started": "2022-06-24T14:41:14.272988Z",
          "shell.execute_reply": "2022-06-24T14:41:14.304579Z"
        },
        "trusted": true,
        "id": "psn7QYRp4z_4"
      },
      "execution_count": null,
      "outputs": []
    },
    {
      "cell_type": "code",
      "source": [
        "### Split the dataset into independent and dependent dataset\n",
        "X=np.array(extracted_features_df['feature'].tolist())\n",
        "y=np.array(extracted_features_df['class'].tolist())"
      ],
      "metadata": {
        "execution": {
          "iopub.status.busy": "2022-06-24T14:41:33.105518Z",
          "iopub.execute_input": "2022-06-24T14:41:33.106148Z",
          "iopub.status.idle": "2022-06-24T14:41:33.126646Z",
          "shell.execute_reply.started": "2022-06-24T14:41:33.106103Z",
          "shell.execute_reply": "2022-06-24T14:41:33.124861Z"
        },
        "trusted": true,
        "id": "FYHLMw_W4z_4"
      },
      "execution_count": null,
      "outputs": []
    },
    {
      "cell_type": "code",
      "source": [
        "X.shape"
      ],
      "metadata": {
        "execution": {
          "iopub.status.busy": "2022-06-24T14:41:54.410360Z",
          "iopub.execute_input": "2022-06-24T14:41:54.410859Z",
          "iopub.status.idle": "2022-06-24T14:41:54.420233Z",
          "shell.execute_reply.started": "2022-06-24T14:41:54.410821Z",
          "shell.execute_reply": "2022-06-24T14:41:54.418777Z"
        },
        "trusted": true,
        "id": "AZfKjSpT4z_4"
      },
      "execution_count": null,
      "outputs": []
    },
    {
      "cell_type": "code",
      "source": [
        "### Label Encoding\n",
        "###y=np.array(pd.get_dummies(y))\n",
        "### Label Encoder\n",
        "from tensorflow.keras.utils import to_categorical\n",
        "from sklearn.preprocessing import LabelEncoder\n",
        "labelencoder=LabelEncoder()\n",
        "y=to_categorical(labelencoder.fit_transform(y))"
      ],
      "metadata": {
        "execution": {
          "iopub.status.busy": "2022-06-24T14:42:50.475124Z",
          "iopub.execute_input": "2022-06-24T14:42:50.475555Z",
          "iopub.status.idle": "2022-06-24T14:43:02.076005Z",
          "shell.execute_reply.started": "2022-06-24T14:42:50.475515Z",
          "shell.execute_reply": "2022-06-24T14:43:02.074934Z"
        },
        "trusted": true,
        "id": "DydeoKf74z_4"
      },
      "execution_count": null,
      "outputs": []
    },
    {
      "cell_type": "code",
      "source": [
        "y"
      ],
      "metadata": {
        "execution": {
          "iopub.status.busy": "2022-06-24T14:43:02.087318Z",
          "iopub.execute_input": "2022-06-24T14:43:02.087616Z",
          "iopub.status.idle": "2022-06-24T14:43:02.118565Z",
          "shell.execute_reply.started": "2022-06-24T14:43:02.087589Z",
          "shell.execute_reply": "2022-06-24T14:43:02.117458Z"
        },
        "trusted": true,
        "id": "YN6h2ffk4z_5"
      },
      "execution_count": null,
      "outputs": []
    },
    {
      "cell_type": "code",
      "source": [
        "### Train Test Split\n",
        "from sklearn.model_selection import train_test_split\n",
        "X_train,X_test,y_train,y_test=train_test_split(X,y,test_size=0.2,random_state=0)"
      ],
      "metadata": {
        "execution": {
          "iopub.status.busy": "2022-06-24T14:43:22.082418Z",
          "iopub.execute_input": "2022-06-24T14:43:22.082829Z",
          "iopub.status.idle": "2022-06-24T14:43:22.094418Z",
          "shell.execute_reply.started": "2022-06-24T14:43:22.082799Z",
          "shell.execute_reply": "2022-06-24T14:43:22.093057Z"
        },
        "trusted": true,
        "id": "VnJu5Gn54z_5"
      },
      "execution_count": null,
      "outputs": []
    },
    {
      "cell_type": "code",
      "source": [
        "X_train"
      ],
      "metadata": {
        "execution": {
          "iopub.status.busy": "2022-06-24T14:43:37.506618Z",
          "iopub.execute_input": "2022-06-24T14:43:37.507042Z",
          "iopub.status.idle": "2022-06-24T14:43:37.517510Z",
          "shell.execute_reply.started": "2022-06-24T14:43:37.507009Z",
          "shell.execute_reply": "2022-06-24T14:43:37.515958Z"
        },
        "trusted": true,
        "id": "PLjEg7074z_5"
      },
      "execution_count": null,
      "outputs": []
    },
    {
      "cell_type": "code",
      "source": [
        "y"
      ],
      "metadata": {
        "execution": {
          "iopub.status.busy": "2022-06-24T14:43:57.539867Z",
          "iopub.execute_input": "2022-06-24T14:43:57.540414Z",
          "iopub.status.idle": "2022-06-24T14:43:57.552507Z",
          "shell.execute_reply.started": "2022-06-24T14:43:57.540378Z",
          "shell.execute_reply": "2022-06-24T14:43:57.550747Z"
        },
        "trusted": true,
        "id": "cEOeIHax4z_5"
      },
      "execution_count": null,
      "outputs": []
    },
    {
      "cell_type": "code",
      "source": [
        "X_train.shape"
      ],
      "metadata": {
        "execution": {
          "iopub.status.busy": "2022-06-24T14:44:14.025205Z",
          "iopub.execute_input": "2022-06-24T14:44:14.025608Z",
          "iopub.status.idle": "2022-06-24T14:44:14.032900Z",
          "shell.execute_reply.started": "2022-06-24T14:44:14.025577Z",
          "shell.execute_reply": "2022-06-24T14:44:14.031674Z"
        },
        "trusted": true,
        "id": "zIPMZmXZ4z_5"
      },
      "execution_count": null,
      "outputs": []
    },
    {
      "cell_type": "code",
      "source": [
        "X_test.shape"
      ],
      "metadata": {
        "execution": {
          "iopub.status.busy": "2022-06-24T14:44:35.114176Z",
          "iopub.execute_input": "2022-06-24T14:44:35.114904Z",
          "iopub.status.idle": "2022-06-24T14:44:35.123781Z",
          "shell.execute_reply.started": "2022-06-24T14:44:35.114857Z",
          "shell.execute_reply": "2022-06-24T14:44:35.122492Z"
        },
        "trusted": true,
        "id": "4aqa7naS4z_6"
      },
      "execution_count": null,
      "outputs": []
    },
    {
      "cell_type": "code",
      "source": [
        "y_train.shape"
      ],
      "metadata": {
        "execution": {
          "iopub.status.busy": "2022-06-24T14:44:50.586814Z",
          "iopub.execute_input": "2022-06-24T14:44:50.587229Z",
          "iopub.status.idle": "2022-06-24T14:44:50.594474Z",
          "shell.execute_reply.started": "2022-06-24T14:44:50.587190Z",
          "shell.execute_reply": "2022-06-24T14:44:50.593557Z"
        },
        "trusted": true,
        "id": "KbDig6u74z_6"
      },
      "execution_count": null,
      "outputs": []
    },
    {
      "cell_type": "code",
      "source": [
        "y_test.shape"
      ],
      "metadata": {
        "execution": {
          "iopub.status.busy": "2022-06-24T14:45:12.969374Z",
          "iopub.execute_input": "2022-06-24T14:45:12.969905Z",
          "iopub.status.idle": "2022-06-24T14:45:12.979505Z",
          "shell.execute_reply.started": "2022-06-24T14:45:12.969869Z",
          "shell.execute_reply": "2022-06-24T14:45:12.978155Z"
        },
        "trusted": true,
        "id": "-mebkh164z_6"
      },
      "execution_count": null,
      "outputs": []
    },
    {
      "cell_type": "code",
      "source": [
        "import tensorflow as tf\n",
        "print(tf.__version__)"
      ],
      "metadata": {
        "execution": {
          "iopub.status.busy": "2022-06-24T14:45:34.849480Z",
          "iopub.execute_input": "2022-06-24T14:45:34.849996Z",
          "iopub.status.idle": "2022-06-24T14:45:34.857343Z",
          "shell.execute_reply.started": "2022-06-24T14:45:34.849956Z",
          "shell.execute_reply": "2022-06-24T14:45:34.855982Z"
        },
        "trusted": true,
        "id": "T8hjFjv04z_6"
      },
      "execution_count": null,
      "outputs": []
    },
    {
      "cell_type": "code",
      "source": [
        "from tensorflow.keras.models import Sequential\n",
        "from tensorflow.keras.layers import Dense,Dropout,Activation,Flatten\n",
        "from tensorflow.keras.optimizers import Adam\n",
        "from sklearn import metrics"
      ],
      "metadata": {
        "execution": {
          "iopub.status.busy": "2022-06-24T14:45:52.883062Z",
          "iopub.execute_input": "2022-06-24T14:45:52.883527Z",
          "iopub.status.idle": "2022-06-24T14:45:52.894008Z",
          "shell.execute_reply.started": "2022-06-24T14:45:52.883494Z",
          "shell.execute_reply": "2022-06-24T14:45:52.892546Z"
        },
        "trusted": true,
        "id": "pMC_861f4z_7"
      },
      "execution_count": null,
      "outputs": []
    },
    {
      "cell_type": "code",
      "source": [
        "num_labels=y.shape[1]"
      ],
      "metadata": {
        "execution": {
          "iopub.status.busy": "2022-06-24T14:46:17.762978Z",
          "iopub.execute_input": "2022-06-24T14:46:17.763431Z",
          "iopub.status.idle": "2022-06-24T14:46:17.769416Z",
          "shell.execute_reply.started": "2022-06-24T14:46:17.763397Z",
          "shell.execute_reply": "2022-06-24T14:46:17.768094Z"
        },
        "trusted": true,
        "id": "HXJGmn0s4z_7"
      },
      "execution_count": null,
      "outputs": []
    },
    {
      "cell_type": "code",
      "source": [
        "model=Sequential()\n",
        "###first layer\n",
        "model.add(Dense(100,input_shape=(40,)))\n",
        "model.add(Activation('relu'))\n",
        "model.add(Dropout(0.5))\n",
        "###second layer\n",
        "model.add(Dense(200))\n",
        "model.add(Activation('relu'))\n",
        "model.add(Dropout(0.5))\n",
        "###third layer\n",
        "model.add(Dense(100))\n",
        "model.add(Activation('relu'))\n",
        "model.add(Dropout(0.5))\n",
        "\n",
        "###final layer\n",
        "model.add(Dense(num_labels))\n",
        "model.add(Activation('softmax'))"
      ],
      "metadata": {
        "execution": {
          "iopub.status.busy": "2022-06-24T14:46:34.749465Z",
          "iopub.execute_input": "2022-06-24T14:46:34.749873Z",
          "iopub.status.idle": "2022-06-24T14:46:34.924480Z",
          "shell.execute_reply.started": "2022-06-24T14:46:34.749832Z",
          "shell.execute_reply": "2022-06-24T14:46:34.922759Z"
        },
        "trusted": true,
        "id": "A-rYpC3d4z_7"
      },
      "execution_count": null,
      "outputs": []
    },
    {
      "cell_type": "code",
      "source": [
        "model.summary()"
      ],
      "metadata": {
        "execution": {
          "iopub.status.busy": "2022-06-24T14:46:56.030244Z",
          "iopub.execute_input": "2022-06-24T14:46:56.030755Z",
          "iopub.status.idle": "2022-06-24T14:46:56.037956Z",
          "shell.execute_reply.started": "2022-06-24T14:46:56.030702Z",
          "shell.execute_reply": "2022-06-24T14:46:56.036809Z"
        },
        "trusted": true,
        "id": "3RHks12L4z_7"
      },
      "execution_count": null,
      "outputs": []
    },
    {
      "cell_type": "code",
      "source": [
        "model.compile(loss='categorical_crossentropy',metrics=['accuracy'],optimizer='adam')"
      ],
      "metadata": {
        "execution": {
          "iopub.status.busy": "2022-06-24T14:47:19.726961Z",
          "iopub.execute_input": "2022-06-24T14:47:19.727331Z",
          "iopub.status.idle": "2022-06-24T14:47:19.743523Z",
          "shell.execute_reply.started": "2022-06-24T14:47:19.727303Z",
          "shell.execute_reply": "2022-06-24T14:47:19.742207Z"
        },
        "trusted": true,
        "id": "wLf7a8GA4z_7"
      },
      "execution_count": null,
      "outputs": []
    },
    {
      "cell_type": "code",
      "source": [
        "## Trianing my model\n",
        "from tensorflow.keras.callbacks import ModelCheckpoint\n",
        "from datetime import datetime \n",
        "\n",
        "num_epochs = 100\n",
        "num_batch_size = 32\n",
        "\n",
        "checkpointer = ModelCheckpoint(filepath='saved_models/audio_classification.hdf5', \n",
        "                               verbose=1, save_best_only=True)\n",
        "start = datetime.now()\n",
        "\n",
        "model.fit(X_train, y_train, batch_size=num_batch_size, epochs=num_epochs, validation_data=(X_test, y_test), callbacks=[checkpointer], verbose=1)\n",
        "\n",
        "\n",
        "duration = datetime.now() - start\n",
        "print(\"Training completed in time: \", duration)"
      ],
      "metadata": {
        "execution": {
          "iopub.status.busy": "2022-06-24T14:47:34.062220Z",
          "iopub.execute_input": "2022-06-24T14:47:34.062608Z",
          "iopub.status.idle": "2022-06-24T14:49:56.816831Z",
          "shell.execute_reply.started": "2022-06-24T14:47:34.062577Z",
          "shell.execute_reply": "2022-06-24T14:49:56.815083Z"
        },
        "trusted": true,
        "id": "m61F9Ikx4z_7"
      },
      "execution_count": null,
      "outputs": []
    },
    {
      "cell_type": "code",
      "source": [
        "model.predict(X_test)"
      ],
      "metadata": {
        "execution": {
          "iopub.status.busy": "2022-06-24T14:51:30.792096Z",
          "iopub.execute_input": "2022-06-24T14:51:30.792500Z",
          "iopub.status.idle": "2022-06-24T14:51:31.101701Z",
          "shell.execute_reply.started": "2022-06-24T14:51:30.792471Z",
          "shell.execute_reply": "2022-06-24T14:51:31.100207Z"
        },
        "trusted": true,
        "id": "O_8a6J814z_8"
      },
      "execution_count": null,
      "outputs": []
    },
    {
      "cell_type": "code",
      "source": [
        "filename=\"../input/urbansound8k/fold9/101729-0-0-11.wav\"\n",
        "audio, sample_rate = librosa.load(filename, res_type='kaiser_fast') \n",
        "mfccs_features = librosa.feature.mfcc(y=audio, sr=sample_rate, n_mfcc=40)\n",
        "mfccs_scaled_features = np.mean(mfccs_features.T,axis=0)\n",
        "\n",
        "print(mfccs_scaled_features)\n",
        "mfccs_scaled_features=mfccs_scaled_features.reshape(1,-1)\n",
        "print(mfccs_scaled_features)\n",
        "print(mfccs_scaled_features.shape)"
      ],
      "metadata": {
        "execution": {
          "iopub.status.busy": "2022-06-24T14:52:31.435625Z",
          "iopub.execute_input": "2022-06-24T14:52:31.437169Z",
          "iopub.status.idle": "2022-06-24T14:52:31.570555Z",
          "shell.execute_reply.started": "2022-06-24T14:52:31.437102Z",
          "shell.execute_reply": "2022-06-24T14:52:31.569162Z"
        },
        "trusted": true,
        "id": "9UDUqEcA4z_8"
      },
      "execution_count": null,
      "outputs": []
    }
  ]
}