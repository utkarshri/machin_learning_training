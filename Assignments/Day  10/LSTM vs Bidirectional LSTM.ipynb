{
  "metadata": {
    "kernelspec": {
      "language": "python",
      "display_name": "Python 3",
      "name": "python3"
    },
    "language_info": {
      "name": "python",
      "version": "3.6.6",
      "mimetype": "text/x-python",
      "codemirror_mode": {
        "name": "ipython",
        "version": 3
      },
      "pygments_lexer": "ipython3",
      "nbconvert_exporter": "python",
      "file_extension": ".py"
    },
    "colab": {
      "name": "LSTM vs-bidirectional-lstm-neural-network.ipynb",
      "provenance": [],
      "collapsed_sections": [],
      "include_colab_link": true
    }
  },
  "nbformat_minor": 0,
  "nbformat": 4,
  "cells": [
    {
      "cell_type": "markdown",
      "metadata": {
        "id": "view-in-github",
        "colab_type": "text"
      },
      "source": [
        "<a href=\"https://colab.research.google.com/github/Rishabh8827/Machine-Learning---Summer-Training/blob/main/Day%2010%20/LSTM_vs_bidirectional_lstm_neural_network.ipynb\" target=\"_parent\"><img src=\"https://colab.research.google.com/assets/colab-badge.svg\" alt=\"Open In Colab\"/></a>"
      ]
    },
    {
      "cell_type": "markdown",
      "source": [
        "Application of LSTM and Bidirectional Recurrent Neural Networks in Fake NEWS detection"
      ],
      "metadata": {
        "_uuid": "8f2839f25d086af736a60e9eeb907d3b93b6e0e5",
        "_cell_guid": "b1076dfc-b9ad-4769-8c92-a6c4dae69d19",
        "trusted": true,
        "id": "N_hVCT9UnGNh"
      }
    },
    {
      "cell_type": "code",
      "source": [
        "from google.colab import drive\n",
        "drive.mount('/content/drive')"
      ],
      "metadata": {
        "colab": {
          "base_uri": "https://localhost:8080/"
        },
        "id": "Ie2V3uBMnbqS",
        "outputId": "2b121d55-a502-4cc3-f561-4096da499a1b"
      },
      "execution_count": null,
      "outputs": [
        {
          "output_type": "stream",
          "name": "stdout",
          "text": [
            "Mounted at /content/drive\n"
          ]
        }
      ]
    },
    {
      "cell_type": "code",
      "source": [
        "# importing necessary libraries \n",
        "import pandas as pd\n",
        "import tensorflow as tf\n",
        "import os\n",
        "import re\n",
        "import numpy as np\n",
        "from string import punctuation\n",
        "from zipfile import ZipFile\n",
        "from sklearn.model_selection import train_test_split\n",
        "import matplotlib.pyplot as plt"
      ],
      "metadata": {
        "_uuid": "d629ff2d2480ee46fbb7e2d37f6b5fab8052498a",
        "_cell_guid": "79c7e3d0-c299-4dcb-8224-4455121ee9b0",
        "execution": {
          "iopub.status.busy": "2022-07-02T10:55:43.962096Z",
          "iopub.execute_input": "2022-07-02T10:55:43.962572Z",
          "iopub.status.idle": "2022-07-02T10:55:47.047314Z",
          "shell.execute_reply.started": "2022-07-02T10:55:43.962510Z",
          "shell.execute_reply": "2022-07-02T10:55:47.046074Z"
        },
        "trusted": true,
        "id": "zkD2eUEhnGNn"
      },
      "execution_count": null,
      "outputs": []
    },
    {
      "cell_type": "code",
      "source": [
        "# importing neural network libraries\n",
        "import tensorflow as tf\n",
        "from tensorflow.keras.preprocessing.text import Tokenizer\n",
        "from tensorflow.keras.preprocessing.sequence import pad_sequences\n",
        "from tensorflow.keras.models import Sequential\n",
        "from tensorflow.keras.layers import Dense, Dropout, Embedding, Bidirectional, LSTM, RNN, SpatialDropout1D, Bidirectional"
      ],
      "metadata": {
        "execution": {
          "iopub.status.busy": "2022-07-02T11:04:36.468743Z",
          "iopub.execute_input": "2022-07-02T11:04:36.469067Z",
          "iopub.status.idle": "2022-07-02T11:04:36.474321Z",
          "shell.execute_reply.started": "2022-07-02T11:04:36.469015Z",
          "shell.execute_reply": "2022-07-02T11:04:36.473400Z"
        },
        "trusted": true,
        "id": "TBMQF5TbnGNp"
      },
      "execution_count": null,
      "outputs": []
    },
    {
      "cell_type": "code",
      "source": [
        "train = pd.read_csv('/content/drive/MyDrive/Datasets/fake-news/train.csv')\n",
        "test = pd.read_csv('/content/drive/MyDrive/Datasets/fake-news/test.csv')\n",
        "train_data = train.copy()\n",
        "test_data = test.copy()"
      ],
      "metadata": {
        "execution": {
          "iopub.status.busy": "2022-07-02T10:55:53.342194Z",
          "iopub.execute_input": "2022-07-02T10:55:53.342542Z",
          "iopub.status.idle": "2022-07-02T10:55:55.991178Z",
          "shell.execute_reply.started": "2022-07-02T10:55:53.342482Z",
          "shell.execute_reply": "2022-07-02T10:55:55.990147Z"
        },
        "trusted": true,
        "id": "cXBzbfnVnGNq"
      },
      "execution_count": null,
      "outputs": []
    },
    {
      "cell_type": "code",
      "source": [
        "train_data = train_data.set_index('id', drop = True)"
      ],
      "metadata": {
        "execution": {
          "iopub.status.busy": "2022-07-02T10:55:58.062036Z",
          "iopub.execute_input": "2022-07-02T10:55:58.062363Z",
          "iopub.status.idle": "2022-07-02T10:55:58.075507Z",
          "shell.execute_reply.started": "2022-07-02T10:55:58.062310Z",
          "shell.execute_reply": "2022-07-02T10:55:58.074624Z"
        },
        "trusted": true,
        "id": "RBf5s2pknGNr"
      },
      "execution_count": null,
      "outputs": []
    },
    {
      "cell_type": "code",
      "source": [
        "print(train_data.shape)\n",
        "train_data.head()"
      ],
      "metadata": {
        "execution": {
          "iopub.status.busy": "2022-07-02T10:56:00.827044Z",
          "iopub.execute_input": "2022-07-02T10:56:00.827365Z",
          "iopub.status.idle": "2022-07-02T10:56:00.850193Z",
          "shell.execute_reply.started": "2022-07-02T10:56:00.827312Z",
          "shell.execute_reply": "2022-07-02T10:56:00.849190Z"
        },
        "trusted": true,
        "colab": {
          "base_uri": "https://localhost:8080/",
          "height": 255
        },
        "id": "-G3UnM7knGNs",
        "outputId": "ad7a4716-10c8-48b2-d70d-32e37feaee02"
      },
      "execution_count": null,
      "outputs": [
        {
          "output_type": "stream",
          "name": "stdout",
          "text": [
            "(20800, 4)\n"
          ]
        },
        {
          "output_type": "execute_result",
          "data": {
            "text/plain": [
              "                                                title              author  \\\n",
              "id                                                                          \n",
              "0   House Dem Aide: We Didn’t Even See Comey’s Let...       Darrell Lucus   \n",
              "1   FLYNN: Hillary Clinton, Big Woman on Campus - ...     Daniel J. Flynn   \n",
              "2                   Why the Truth Might Get You Fired  Consortiumnews.com   \n",
              "3   15 Civilians Killed In Single US Airstrike Hav...     Jessica Purkiss   \n",
              "4   Iranian woman jailed for fictional unpublished...      Howard Portnoy   \n",
              "\n",
              "                                                 text  label  \n",
              "id                                                            \n",
              "0   House Dem Aide: We Didn’t Even See Comey’s Let...      1  \n",
              "1   Ever get the feeling your life circles the rou...      0  \n",
              "2   Why the Truth Might Get You Fired October 29, ...      1  \n",
              "3   Videos 15 Civilians Killed In Single US Airstr...      1  \n",
              "4   Print \\nAn Iranian woman has been sentenced to...      1  "
            ],
            "text/html": [
              "\n",
              "  <div id=\"df-9457fc87-fe28-46e7-b1a3-74ee8a024eb7\">\n",
              "    <div class=\"colab-df-container\">\n",
              "      <div>\n",
              "<style scoped>\n",
              "    .dataframe tbody tr th:only-of-type {\n",
              "        vertical-align: middle;\n",
              "    }\n",
              "\n",
              "    .dataframe tbody tr th {\n",
              "        vertical-align: top;\n",
              "    }\n",
              "\n",
              "    .dataframe thead th {\n",
              "        text-align: right;\n",
              "    }\n",
              "</style>\n",
              "<table border=\"1\" class=\"dataframe\">\n",
              "  <thead>\n",
              "    <tr style=\"text-align: right;\">\n",
              "      <th></th>\n",
              "      <th>title</th>\n",
              "      <th>author</th>\n",
              "      <th>text</th>\n",
              "      <th>label</th>\n",
              "    </tr>\n",
              "    <tr>\n",
              "      <th>id</th>\n",
              "      <th></th>\n",
              "      <th></th>\n",
              "      <th></th>\n",
              "      <th></th>\n",
              "    </tr>\n",
              "  </thead>\n",
              "  <tbody>\n",
              "    <tr>\n",
              "      <th>0</th>\n",
              "      <td>House Dem Aide: We Didn’t Even See Comey’s Let...</td>\n",
              "      <td>Darrell Lucus</td>\n",
              "      <td>House Dem Aide: We Didn’t Even See Comey’s Let...</td>\n",
              "      <td>1</td>\n",
              "    </tr>\n",
              "    <tr>\n",
              "      <th>1</th>\n",
              "      <td>FLYNN: Hillary Clinton, Big Woman on Campus - ...</td>\n",
              "      <td>Daniel J. Flynn</td>\n",
              "      <td>Ever get the feeling your life circles the rou...</td>\n",
              "      <td>0</td>\n",
              "    </tr>\n",
              "    <tr>\n",
              "      <th>2</th>\n",
              "      <td>Why the Truth Might Get You Fired</td>\n",
              "      <td>Consortiumnews.com</td>\n",
              "      <td>Why the Truth Might Get You Fired October 29, ...</td>\n",
              "      <td>1</td>\n",
              "    </tr>\n",
              "    <tr>\n",
              "      <th>3</th>\n",
              "      <td>15 Civilians Killed In Single US Airstrike Hav...</td>\n",
              "      <td>Jessica Purkiss</td>\n",
              "      <td>Videos 15 Civilians Killed In Single US Airstr...</td>\n",
              "      <td>1</td>\n",
              "    </tr>\n",
              "    <tr>\n",
              "      <th>4</th>\n",
              "      <td>Iranian woman jailed for fictional unpublished...</td>\n",
              "      <td>Howard Portnoy</td>\n",
              "      <td>Print \\nAn Iranian woman has been sentenced to...</td>\n",
              "      <td>1</td>\n",
              "    </tr>\n",
              "  </tbody>\n",
              "</table>\n",
              "</div>\n",
              "      <button class=\"colab-df-convert\" onclick=\"convertToInteractive('df-9457fc87-fe28-46e7-b1a3-74ee8a024eb7')\"\n",
              "              title=\"Convert this dataframe to an interactive table.\"\n",
              "              style=\"display:none;\">\n",
              "        \n",
              "  <svg xmlns=\"http://www.w3.org/2000/svg\" height=\"24px\"viewBox=\"0 0 24 24\"\n",
              "       width=\"24px\">\n",
              "    <path d=\"M0 0h24v24H0V0z\" fill=\"none\"/>\n",
              "    <path d=\"M18.56 5.44l.94 2.06.94-2.06 2.06-.94-2.06-.94-.94-2.06-.94 2.06-2.06.94zm-11 1L8.5 8.5l.94-2.06 2.06-.94-2.06-.94L8.5 2.5l-.94 2.06-2.06.94zm10 10l.94 2.06.94-2.06 2.06-.94-2.06-.94-.94-2.06-.94 2.06-2.06.94z\"/><path d=\"M17.41 7.96l-1.37-1.37c-.4-.4-.92-.59-1.43-.59-.52 0-1.04.2-1.43.59L10.3 9.45l-7.72 7.72c-.78.78-.78 2.05 0 2.83L4 21.41c.39.39.9.59 1.41.59.51 0 1.02-.2 1.41-.59l7.78-7.78 2.81-2.81c.8-.78.8-2.07 0-2.86zM5.41 20L4 18.59l7.72-7.72 1.47 1.35L5.41 20z\"/>\n",
              "  </svg>\n",
              "      </button>\n",
              "      \n",
              "  <style>\n",
              "    .colab-df-container {\n",
              "      display:flex;\n",
              "      flex-wrap:wrap;\n",
              "      gap: 12px;\n",
              "    }\n",
              "\n",
              "    .colab-df-convert {\n",
              "      background-color: #E8F0FE;\n",
              "      border: none;\n",
              "      border-radius: 50%;\n",
              "      cursor: pointer;\n",
              "      display: none;\n",
              "      fill: #1967D2;\n",
              "      height: 32px;\n",
              "      padding: 0 0 0 0;\n",
              "      width: 32px;\n",
              "    }\n",
              "\n",
              "    .colab-df-convert:hover {\n",
              "      background-color: #E2EBFA;\n",
              "      box-shadow: 0px 1px 2px rgba(60, 64, 67, 0.3), 0px 1px 3px 1px rgba(60, 64, 67, 0.15);\n",
              "      fill: #174EA6;\n",
              "    }\n",
              "\n",
              "    [theme=dark] .colab-df-convert {\n",
              "      background-color: #3B4455;\n",
              "      fill: #D2E3FC;\n",
              "    }\n",
              "\n",
              "    [theme=dark] .colab-df-convert:hover {\n",
              "      background-color: #434B5C;\n",
              "      box-shadow: 0px 1px 3px 1px rgba(0, 0, 0, 0.15);\n",
              "      filter: drop-shadow(0px 1px 2px rgba(0, 0, 0, 0.3));\n",
              "      fill: #FFFFFF;\n",
              "    }\n",
              "  </style>\n",
              "\n",
              "      <script>\n",
              "        const buttonEl =\n",
              "          document.querySelector('#df-9457fc87-fe28-46e7-b1a3-74ee8a024eb7 button.colab-df-convert');\n",
              "        buttonEl.style.display =\n",
              "          google.colab.kernel.accessAllowed ? 'block' : 'none';\n",
              "\n",
              "        async function convertToInteractive(key) {\n",
              "          const element = document.querySelector('#df-9457fc87-fe28-46e7-b1a3-74ee8a024eb7');\n",
              "          const dataTable =\n",
              "            await google.colab.kernel.invokeFunction('convertToInteractive',\n",
              "                                                     [key], {});\n",
              "          if (!dataTable) return;\n",
              "\n",
              "          const docLinkHtml = 'Like what you see? Visit the ' +\n",
              "            '<a target=\"_blank\" href=https://colab.research.google.com/notebooks/data_table.ipynb>data table notebook</a>'\n",
              "            + ' to learn more about interactive tables.';\n",
              "          element.innerHTML = '';\n",
              "          dataTable['output_type'] = 'display_data';\n",
              "          await google.colab.output.renderOutput(dataTable, element);\n",
              "          const docLink = document.createElement('div');\n",
              "          docLink.innerHTML = docLinkHtml;\n",
              "          element.appendChild(docLink);\n",
              "        }\n",
              "      </script>\n",
              "    </div>\n",
              "  </div>\n",
              "  "
            ]
          },
          "metadata": {},
          "execution_count": 6
        }
      ]
    },
    {
      "cell_type": "code",
      "source": [
        "print(test_data.shape)\n",
        "test_data.head()"
      ],
      "metadata": {
        "execution": {
          "iopub.status.busy": "2022-07-02T10:56:04.181958Z",
          "iopub.execute_input": "2022-07-02T10:56:04.182274Z",
          "iopub.status.idle": "2022-07-02T10:56:04.195230Z",
          "shell.execute_reply.started": "2022-07-02T10:56:04.182219Z",
          "shell.execute_reply": "2022-07-02T10:56:04.194485Z"
        },
        "trusted": true,
        "colab": {
          "base_uri": "https://localhost:8080/",
          "height": 224
        },
        "id": "Y2KwX5QMnGNt",
        "outputId": "2291c011-1010-4a6e-c79b-ec3bfc44b874"
      },
      "execution_count": null,
      "outputs": [
        {
          "output_type": "stream",
          "name": "stdout",
          "text": [
            "(5200, 4)\n"
          ]
        },
        {
          "output_type": "execute_result",
          "data": {
            "text/plain": [
              "      id                                              title  \\\n",
              "0  20800  Specter of Trump Loosens Tongues, if Not Purse...   \n",
              "1  20801  Russian warships ready to strike terrorists ne...   \n",
              "2  20802  #NoDAPL: Native American Leaders Vow to Stay A...   \n",
              "3  20803  Tim Tebow Will Attempt Another Comeback, This ...   \n",
              "4  20804                    Keiser Report: Meme Wars (E995)   \n",
              "\n",
              "                    author                                               text  \n",
              "0         David Streitfeld  PALO ALTO, Calif.  —   After years of scorning...  \n",
              "1                      NaN  Russian warships ready to strike terrorists ne...  \n",
              "2            Common Dreams  Videos #NoDAPL: Native American Leaders Vow to...  \n",
              "3            Daniel Victor  If at first you don’t succeed, try a different...  \n",
              "4  Truth Broadcast Network  42 mins ago 1 Views 0 Comments 0 Likes 'For th...  "
            ],
            "text/html": [
              "\n",
              "  <div id=\"df-2b8612f4-8617-4d97-a476-b6d82c10a5ab\">\n",
              "    <div class=\"colab-df-container\">\n",
              "      <div>\n",
              "<style scoped>\n",
              "    .dataframe tbody tr th:only-of-type {\n",
              "        vertical-align: middle;\n",
              "    }\n",
              "\n",
              "    .dataframe tbody tr th {\n",
              "        vertical-align: top;\n",
              "    }\n",
              "\n",
              "    .dataframe thead th {\n",
              "        text-align: right;\n",
              "    }\n",
              "</style>\n",
              "<table border=\"1\" class=\"dataframe\">\n",
              "  <thead>\n",
              "    <tr style=\"text-align: right;\">\n",
              "      <th></th>\n",
              "      <th>id</th>\n",
              "      <th>title</th>\n",
              "      <th>author</th>\n",
              "      <th>text</th>\n",
              "    </tr>\n",
              "  </thead>\n",
              "  <tbody>\n",
              "    <tr>\n",
              "      <th>0</th>\n",
              "      <td>20800</td>\n",
              "      <td>Specter of Trump Loosens Tongues, if Not Purse...</td>\n",
              "      <td>David Streitfeld</td>\n",
              "      <td>PALO ALTO, Calif.  —   After years of scorning...</td>\n",
              "    </tr>\n",
              "    <tr>\n",
              "      <th>1</th>\n",
              "      <td>20801</td>\n",
              "      <td>Russian warships ready to strike terrorists ne...</td>\n",
              "      <td>NaN</td>\n",
              "      <td>Russian warships ready to strike terrorists ne...</td>\n",
              "    </tr>\n",
              "    <tr>\n",
              "      <th>2</th>\n",
              "      <td>20802</td>\n",
              "      <td>#NoDAPL: Native American Leaders Vow to Stay A...</td>\n",
              "      <td>Common Dreams</td>\n",
              "      <td>Videos #NoDAPL: Native American Leaders Vow to...</td>\n",
              "    </tr>\n",
              "    <tr>\n",
              "      <th>3</th>\n",
              "      <td>20803</td>\n",
              "      <td>Tim Tebow Will Attempt Another Comeback, This ...</td>\n",
              "      <td>Daniel Victor</td>\n",
              "      <td>If at first you don’t succeed, try a different...</td>\n",
              "    </tr>\n",
              "    <tr>\n",
              "      <th>4</th>\n",
              "      <td>20804</td>\n",
              "      <td>Keiser Report: Meme Wars (E995)</td>\n",
              "      <td>Truth Broadcast Network</td>\n",
              "      <td>42 mins ago 1 Views 0 Comments 0 Likes 'For th...</td>\n",
              "    </tr>\n",
              "  </tbody>\n",
              "</table>\n",
              "</div>\n",
              "      <button class=\"colab-df-convert\" onclick=\"convertToInteractive('df-2b8612f4-8617-4d97-a476-b6d82c10a5ab')\"\n",
              "              title=\"Convert this dataframe to an interactive table.\"\n",
              "              style=\"display:none;\">\n",
              "        \n",
              "  <svg xmlns=\"http://www.w3.org/2000/svg\" height=\"24px\"viewBox=\"0 0 24 24\"\n",
              "       width=\"24px\">\n",
              "    <path d=\"M0 0h24v24H0V0z\" fill=\"none\"/>\n",
              "    <path d=\"M18.56 5.44l.94 2.06.94-2.06 2.06-.94-2.06-.94-.94-2.06-.94 2.06-2.06.94zm-11 1L8.5 8.5l.94-2.06 2.06-.94-2.06-.94L8.5 2.5l-.94 2.06-2.06.94zm10 10l.94 2.06.94-2.06 2.06-.94-2.06-.94-.94-2.06-.94 2.06-2.06.94z\"/><path d=\"M17.41 7.96l-1.37-1.37c-.4-.4-.92-.59-1.43-.59-.52 0-1.04.2-1.43.59L10.3 9.45l-7.72 7.72c-.78.78-.78 2.05 0 2.83L4 21.41c.39.39.9.59 1.41.59.51 0 1.02-.2 1.41-.59l7.78-7.78 2.81-2.81c.8-.78.8-2.07 0-2.86zM5.41 20L4 18.59l7.72-7.72 1.47 1.35L5.41 20z\"/>\n",
              "  </svg>\n",
              "      </button>\n",
              "      \n",
              "  <style>\n",
              "    .colab-df-container {\n",
              "      display:flex;\n",
              "      flex-wrap:wrap;\n",
              "      gap: 12px;\n",
              "    }\n",
              "\n",
              "    .colab-df-convert {\n",
              "      background-color: #E8F0FE;\n",
              "      border: none;\n",
              "      border-radius: 50%;\n",
              "      cursor: pointer;\n",
              "      display: none;\n",
              "      fill: #1967D2;\n",
              "      height: 32px;\n",
              "      padding: 0 0 0 0;\n",
              "      width: 32px;\n",
              "    }\n",
              "\n",
              "    .colab-df-convert:hover {\n",
              "      background-color: #E2EBFA;\n",
              "      box-shadow: 0px 1px 2px rgba(60, 64, 67, 0.3), 0px 1px 3px 1px rgba(60, 64, 67, 0.15);\n",
              "      fill: #174EA6;\n",
              "    }\n",
              "\n",
              "    [theme=dark] .colab-df-convert {\n",
              "      background-color: #3B4455;\n",
              "      fill: #D2E3FC;\n",
              "    }\n",
              "\n",
              "    [theme=dark] .colab-df-convert:hover {\n",
              "      background-color: #434B5C;\n",
              "      box-shadow: 0px 1px 3px 1px rgba(0, 0, 0, 0.15);\n",
              "      filter: drop-shadow(0px 1px 2px rgba(0, 0, 0, 0.3));\n",
              "      fill: #FFFFFF;\n",
              "    }\n",
              "  </style>\n",
              "\n",
              "      <script>\n",
              "        const buttonEl =\n",
              "          document.querySelector('#df-2b8612f4-8617-4d97-a476-b6d82c10a5ab button.colab-df-convert');\n",
              "        buttonEl.style.display =\n",
              "          google.colab.kernel.accessAllowed ? 'block' : 'none';\n",
              "\n",
              "        async function convertToInteractive(key) {\n",
              "          const element = document.querySelector('#df-2b8612f4-8617-4d97-a476-b6d82c10a5ab');\n",
              "          const dataTable =\n",
              "            await google.colab.kernel.invokeFunction('convertToInteractive',\n",
              "                                                     [key], {});\n",
              "          if (!dataTable) return;\n",
              "\n",
              "          const docLinkHtml = 'Like what you see? Visit the ' +\n",
              "            '<a target=\"_blank\" href=https://colab.research.google.com/notebooks/data_table.ipynb>data table notebook</a>'\n",
              "            + ' to learn more about interactive tables.';\n",
              "          element.innerHTML = '';\n",
              "          dataTable['output_type'] = 'display_data';\n",
              "          await google.colab.output.renderOutput(dataTable, element);\n",
              "          const docLink = document.createElement('div');\n",
              "          docLink.innerHTML = docLinkHtml;\n",
              "          element.appendChild(docLink);\n",
              "        }\n",
              "      </script>\n",
              "    </div>\n",
              "  </div>\n",
              "  "
            ]
          },
          "metadata": {},
          "execution_count": 7
        }
      ]
    },
    {
      "cell_type": "code",
      "source": [
        "# checking for missing values\n",
        "train_data.isnull().sum()"
      ],
      "metadata": {
        "execution": {
          "iopub.status.busy": "2022-07-02T10:56:07.087132Z",
          "iopub.execute_input": "2022-07-02T10:56:07.087462Z",
          "iopub.status.idle": "2022-07-02T10:56:07.102616Z",
          "shell.execute_reply.started": "2022-07-02T10:56:07.087408Z",
          "shell.execute_reply": "2022-07-02T10:56:07.101752Z"
        },
        "trusted": true,
        "colab": {
          "base_uri": "https://localhost:8080/"
        },
        "id": "rI7Gp6P2nGNu",
        "outputId": "8ba3f71f-6b78-471c-c7ed-3ddb22cc1c88"
      },
      "execution_count": null,
      "outputs": [
        {
          "output_type": "execute_result",
          "data": {
            "text/plain": [
              "title      558\n",
              "author    1957\n",
              "text        39\n",
              "label        0\n",
              "dtype: int64"
            ]
          },
          "metadata": {},
          "execution_count": 8
        }
      ]
    },
    {
      "cell_type": "markdown",
      "source": [
        "out of 20,000 training samples, around 40 samples (bothering only the text column) have missing values. so we can drop them at once"
      ],
      "metadata": {
        "id": "HyR6eT_FnGNu"
      }
    },
    {
      "cell_type": "code",
      "source": [
        "# dropping missing values from text columns alone. \n",
        "train_data[['title', 'author']] = train_data[['title', 'author']].fillna(value = 'Missing')\n",
        "train_data = train_data.dropna()\n",
        "train_data.isnull().sum()"
      ],
      "metadata": {
        "execution": {
          "iopub.status.busy": "2022-07-02T10:56:09.766978Z",
          "iopub.execute_input": "2022-07-02T10:56:09.767255Z",
          "iopub.status.idle": "2022-07-02T10:56:09.806019Z",
          "shell.execute_reply.started": "2022-07-02T10:56:09.767218Z",
          "shell.execute_reply": "2022-07-02T10:56:09.804900Z"
        },
        "trusted": true,
        "colab": {
          "base_uri": "https://localhost:8080/"
        },
        "id": "2HlSF3LDnGNv",
        "outputId": "012f18fc-73ac-4989-b0ad-87d13fae760a"
      },
      "execution_count": null,
      "outputs": [
        {
          "output_type": "execute_result",
          "data": {
            "text/plain": [
              "title     0\n",
              "author    0\n",
              "text      0\n",
              "label     0\n",
              "dtype: int64"
            ]
          },
          "metadata": {},
          "execution_count": 9
        }
      ]
    },
    {
      "cell_type": "code",
      "source": [
        "length = []\n",
        "[length.append(len(str(text))) for text in train_data['text']]\n",
        "train_data['length'] = length\n",
        "train_data.head()"
      ],
      "metadata": {
        "execution": {
          "iopub.status.busy": "2022-07-02T10:56:11.961948Z",
          "iopub.execute_input": "2022-07-02T10:56:11.962250Z",
          "iopub.status.idle": "2022-07-02T10:56:11.993974Z",
          "shell.execute_reply.started": "2022-07-02T10:56:11.962198Z",
          "shell.execute_reply": "2022-07-02T10:56:11.993029Z"
        },
        "trusted": true,
        "colab": {
          "base_uri": "https://localhost:8080/",
          "height": 238
        },
        "id": "REN9FE5pnGNw",
        "outputId": "23a2386a-8796-4711-e42d-ae53f2cef6c0"
      },
      "execution_count": null,
      "outputs": [
        {
          "output_type": "execute_result",
          "data": {
            "text/plain": [
              "                                                title              author  \\\n",
              "id                                                                          \n",
              "0   House Dem Aide: We Didn’t Even See Comey’s Let...       Darrell Lucus   \n",
              "1   FLYNN: Hillary Clinton, Big Woman on Campus - ...     Daniel J. Flynn   \n",
              "2                   Why the Truth Might Get You Fired  Consortiumnews.com   \n",
              "3   15 Civilians Killed In Single US Airstrike Hav...     Jessica Purkiss   \n",
              "4   Iranian woman jailed for fictional unpublished...      Howard Portnoy   \n",
              "\n",
              "                                                 text  label  length  \n",
              "id                                                                    \n",
              "0   House Dem Aide: We Didn’t Even See Comey’s Let...      1    4930  \n",
              "1   Ever get the feeling your life circles the rou...      0    4160  \n",
              "2   Why the Truth Might Get You Fired October 29, ...      1    7692  \n",
              "3   Videos 15 Civilians Killed In Single US Airstr...      1    3237  \n",
              "4   Print \\nAn Iranian woman has been sentenced to...      1     938  "
            ],
            "text/html": [
              "\n",
              "  <div id=\"df-491cd86f-e838-46db-9711-4850c6a7a860\">\n",
              "    <div class=\"colab-df-container\">\n",
              "      <div>\n",
              "<style scoped>\n",
              "    .dataframe tbody tr th:only-of-type {\n",
              "        vertical-align: middle;\n",
              "    }\n",
              "\n",
              "    .dataframe tbody tr th {\n",
              "        vertical-align: top;\n",
              "    }\n",
              "\n",
              "    .dataframe thead th {\n",
              "        text-align: right;\n",
              "    }\n",
              "</style>\n",
              "<table border=\"1\" class=\"dataframe\">\n",
              "  <thead>\n",
              "    <tr style=\"text-align: right;\">\n",
              "      <th></th>\n",
              "      <th>title</th>\n",
              "      <th>author</th>\n",
              "      <th>text</th>\n",
              "      <th>label</th>\n",
              "      <th>length</th>\n",
              "    </tr>\n",
              "    <tr>\n",
              "      <th>id</th>\n",
              "      <th></th>\n",
              "      <th></th>\n",
              "      <th></th>\n",
              "      <th></th>\n",
              "      <th></th>\n",
              "    </tr>\n",
              "  </thead>\n",
              "  <tbody>\n",
              "    <tr>\n",
              "      <th>0</th>\n",
              "      <td>House Dem Aide: We Didn’t Even See Comey’s Let...</td>\n",
              "      <td>Darrell Lucus</td>\n",
              "      <td>House Dem Aide: We Didn’t Even See Comey’s Let...</td>\n",
              "      <td>1</td>\n",
              "      <td>4930</td>\n",
              "    </tr>\n",
              "    <tr>\n",
              "      <th>1</th>\n",
              "      <td>FLYNN: Hillary Clinton, Big Woman on Campus - ...</td>\n",
              "      <td>Daniel J. Flynn</td>\n",
              "      <td>Ever get the feeling your life circles the rou...</td>\n",
              "      <td>0</td>\n",
              "      <td>4160</td>\n",
              "    </tr>\n",
              "    <tr>\n",
              "      <th>2</th>\n",
              "      <td>Why the Truth Might Get You Fired</td>\n",
              "      <td>Consortiumnews.com</td>\n",
              "      <td>Why the Truth Might Get You Fired October 29, ...</td>\n",
              "      <td>1</td>\n",
              "      <td>7692</td>\n",
              "    </tr>\n",
              "    <tr>\n",
              "      <th>3</th>\n",
              "      <td>15 Civilians Killed In Single US Airstrike Hav...</td>\n",
              "      <td>Jessica Purkiss</td>\n",
              "      <td>Videos 15 Civilians Killed In Single US Airstr...</td>\n",
              "      <td>1</td>\n",
              "      <td>3237</td>\n",
              "    </tr>\n",
              "    <tr>\n",
              "      <th>4</th>\n",
              "      <td>Iranian woman jailed for fictional unpublished...</td>\n",
              "      <td>Howard Portnoy</td>\n",
              "      <td>Print \\nAn Iranian woman has been sentenced to...</td>\n",
              "      <td>1</td>\n",
              "      <td>938</td>\n",
              "    </tr>\n",
              "  </tbody>\n",
              "</table>\n",
              "</div>\n",
              "      <button class=\"colab-df-convert\" onclick=\"convertToInteractive('df-491cd86f-e838-46db-9711-4850c6a7a860')\"\n",
              "              title=\"Convert this dataframe to an interactive table.\"\n",
              "              style=\"display:none;\">\n",
              "        \n",
              "  <svg xmlns=\"http://www.w3.org/2000/svg\" height=\"24px\"viewBox=\"0 0 24 24\"\n",
              "       width=\"24px\">\n",
              "    <path d=\"M0 0h24v24H0V0z\" fill=\"none\"/>\n",
              "    <path d=\"M18.56 5.44l.94 2.06.94-2.06 2.06-.94-2.06-.94-.94-2.06-.94 2.06-2.06.94zm-11 1L8.5 8.5l.94-2.06 2.06-.94-2.06-.94L8.5 2.5l-.94 2.06-2.06.94zm10 10l.94 2.06.94-2.06 2.06-.94-2.06-.94-.94-2.06-.94 2.06-2.06.94z\"/><path d=\"M17.41 7.96l-1.37-1.37c-.4-.4-.92-.59-1.43-.59-.52 0-1.04.2-1.43.59L10.3 9.45l-7.72 7.72c-.78.78-.78 2.05 0 2.83L4 21.41c.39.39.9.59 1.41.59.51 0 1.02-.2 1.41-.59l7.78-7.78 2.81-2.81c.8-.78.8-2.07 0-2.86zM5.41 20L4 18.59l7.72-7.72 1.47 1.35L5.41 20z\"/>\n",
              "  </svg>\n",
              "      </button>\n",
              "      \n",
              "  <style>\n",
              "    .colab-df-container {\n",
              "      display:flex;\n",
              "      flex-wrap:wrap;\n",
              "      gap: 12px;\n",
              "    }\n",
              "\n",
              "    .colab-df-convert {\n",
              "      background-color: #E8F0FE;\n",
              "      border: none;\n",
              "      border-radius: 50%;\n",
              "      cursor: pointer;\n",
              "      display: none;\n",
              "      fill: #1967D2;\n",
              "      height: 32px;\n",
              "      padding: 0 0 0 0;\n",
              "      width: 32px;\n",
              "    }\n",
              "\n",
              "    .colab-df-convert:hover {\n",
              "      background-color: #E2EBFA;\n",
              "      box-shadow: 0px 1px 2px rgba(60, 64, 67, 0.3), 0px 1px 3px 1px rgba(60, 64, 67, 0.15);\n",
              "      fill: #174EA6;\n",
              "    }\n",
              "\n",
              "    [theme=dark] .colab-df-convert {\n",
              "      background-color: #3B4455;\n",
              "      fill: #D2E3FC;\n",
              "    }\n",
              "\n",
              "    [theme=dark] .colab-df-convert:hover {\n",
              "      background-color: #434B5C;\n",
              "      box-shadow: 0px 1px 3px 1px rgba(0, 0, 0, 0.15);\n",
              "      filter: drop-shadow(0px 1px 2px rgba(0, 0, 0, 0.3));\n",
              "      fill: #FFFFFF;\n",
              "    }\n",
              "  </style>\n",
              "\n",
              "      <script>\n",
              "        const buttonEl =\n",
              "          document.querySelector('#df-491cd86f-e838-46db-9711-4850c6a7a860 button.colab-df-convert');\n",
              "        buttonEl.style.display =\n",
              "          google.colab.kernel.accessAllowed ? 'block' : 'none';\n",
              "\n",
              "        async function convertToInteractive(key) {\n",
              "          const element = document.querySelector('#df-491cd86f-e838-46db-9711-4850c6a7a860');\n",
              "          const dataTable =\n",
              "            await google.colab.kernel.invokeFunction('convertToInteractive',\n",
              "                                                     [key], {});\n",
              "          if (!dataTable) return;\n",
              "\n",
              "          const docLinkHtml = 'Like what you see? Visit the ' +\n",
              "            '<a target=\"_blank\" href=https://colab.research.google.com/notebooks/data_table.ipynb>data table notebook</a>'\n",
              "            + ' to learn more about interactive tables.';\n",
              "          element.innerHTML = '';\n",
              "          dataTable['output_type'] = 'display_data';\n",
              "          await google.colab.output.renderOutput(dataTable, element);\n",
              "          const docLink = document.createElement('div');\n",
              "          docLink.innerHTML = docLinkHtml;\n",
              "          element.appendChild(docLink);\n",
              "        }\n",
              "      </script>\n",
              "    </div>\n",
              "  </div>\n",
              "  "
            ]
          },
          "metadata": {},
          "execution_count": 10
        }
      ]
    },
    {
      "cell_type": "code",
      "source": [
        "min(train_data['length']), max(train_data['length']), round(sum(train_data['length'])/len(train_data['length']))"
      ],
      "metadata": {
        "execution": {
          "iopub.status.busy": "2022-07-02T10:56:14.642811Z",
          "iopub.execute_input": "2022-07-02T10:56:14.643398Z",
          "iopub.status.idle": "2022-07-02T10:56:14.656183Z",
          "shell.execute_reply.started": "2022-07-02T10:56:14.643348Z",
          "shell.execute_reply": "2022-07-02T10:56:14.655557Z"
        },
        "trusted": true,
        "colab": {
          "base_uri": "https://localhost:8080/"
        },
        "id": "HYmvnlKinGNw",
        "outputId": "89d109c3-efb7-495d-b160-2ded2f949e11"
      },
      "execution_count": null,
      "outputs": [
        {
          "output_type": "execute_result",
          "data": {
            "text/plain": [
              "(1, 142961, 4553)"
            ]
          },
          "metadata": {},
          "execution_count": 11
        }
      ]
    },
    {
      "cell_type": "markdown",
      "source": [
        "we can keep 4500 as max features for training the neural network.\n",
        "\n",
        "**minimum length is 1 ?? Looks like there are some outliers.**"
      ],
      "metadata": {
        "id": "f3uyGJqmnGNw"
      }
    },
    {
      "cell_type": "code",
      "source": [
        "len(train_data[train_data['length'] < 50])"
      ],
      "metadata": {
        "execution": {
          "iopub.status.busy": "2022-07-02T10:56:17.742012Z",
          "iopub.execute_input": "2022-07-02T10:56:17.742590Z",
          "iopub.status.idle": "2022-07-02T10:56:17.751221Z",
          "shell.execute_reply.started": "2022-07-02T10:56:17.742534Z",
          "shell.execute_reply": "2022-07-02T10:56:17.750565Z"
        },
        "trusted": true,
        "colab": {
          "base_uri": "https://localhost:8080/"
        },
        "id": "tK9TRxepnGNx",
        "outputId": "3df39760-0c90-4432-ca88-85668561ab26"
      },
      "execution_count": null,
      "outputs": [
        {
          "output_type": "execute_result",
          "data": {
            "text/plain": [
              "207"
            ]
          },
          "metadata": {},
          "execution_count": 12
        }
      ]
    },
    {
      "cell_type": "markdown",
      "source": [
        "**There are 107 outliers in this dataset. Outliers can be removed. It is a good practice to check the outliers before removing them**"
      ],
      "metadata": {
        "id": "JQN-156bnGNx"
      }
    },
    {
      "cell_type": "code",
      "source": [
        "train_data['text'][train_data['length'] < 50]"
      ],
      "metadata": {
        "execution": {
          "iopub.status.busy": "2022-07-02T10:56:19.801845Z",
          "iopub.execute_input": "2022-07-02T10:56:19.802404Z",
          "iopub.status.idle": "2022-07-02T10:56:19.811875Z",
          "shell.execute_reply.started": "2022-07-02T10:56:19.802329Z",
          "shell.execute_reply": "2022-07-02T10:56:19.810948Z"
        },
        "trusted": true,
        "colab": {
          "base_uri": "https://localhost:8080/"
        },
        "id": "2iiQYq7VnGNx",
        "outputId": "04787dae-e853-408f-9433-673330415d80"
      },
      "execution_count": null,
      "outputs": [
        {
          "output_type": "execute_result",
          "data": {
            "text/plain": [
              "id\n",
              "82                                                   \n",
              "169                                                  \n",
              "173                                   Guest   Guest  \n",
              "196            They got the heater turned up on high.\n",
              "295                                                  \n",
              "                             ...                     \n",
              "20350                         I hope nobody got hurt!\n",
              "20418                                 Guest   Guest  \n",
              "20431    \\nOctober 28, 2016 The Mothers by stclair by\n",
              "20513                                                \n",
              "20636                              Trump all the way!\n",
              "Name: text, Length: 207, dtype: object"
            ]
          },
          "metadata": {},
          "execution_count": 13
        }
      ]
    },
    {
      "cell_type": "markdown",
      "source": [
        "*Mostly empty texts. They can be removed since they will surely guide the neural network in the wrong way*"
      ],
      "metadata": {
        "id": "8VJhRk-pnGNy"
      }
    },
    {
      "cell_type": "code",
      "source": [
        "# dropping the outliers\n",
        "train_data = train_data.drop(train_data['text'][train_data['length'] < 50].index, axis = 0)"
      ],
      "metadata": {
        "execution": {
          "iopub.status.busy": "2022-07-02T10:56:21.927122Z",
          "iopub.execute_input": "2022-07-02T10:56:21.927760Z",
          "iopub.status.idle": "2022-07-02T10:56:21.938921Z",
          "shell.execute_reply.started": "2022-07-02T10:56:21.927435Z",
          "shell.execute_reply": "2022-07-02T10:56:21.937797Z"
        },
        "trusted": true,
        "id": "wTmD_D_7nGNy"
      },
      "execution_count": null,
      "outputs": []
    },
    {
      "cell_type": "code",
      "source": [
        "min(train_data['length']), max(train_data['length']), round(sum(train_data['length'])/len(train_data['length']))"
      ],
      "metadata": {
        "trusted": true,
        "colab": {
          "base_uri": "https://localhost:8080/"
        },
        "id": "nxzvn-8FnGNy",
        "outputId": "ba4c3fd2-a9eb-4d6e-ea35-3b580c2b2b05"
      },
      "execution_count": null,
      "outputs": [
        {
          "output_type": "execute_result",
          "data": {
            "text/plain": [
              "(50, 142961, 4598)"
            ]
          },
          "metadata": {},
          "execution_count": 15
        }
      ]
    },
    {
      "cell_type": "code",
      "source": [
        "max_features = 50"
      ],
      "metadata": {
        "execution": {
          "iopub.status.busy": "2022-07-02T10:56:25.601913Z",
          "iopub.execute_input": "2022-07-02T10:56:25.602703Z",
          "iopub.status.idle": "2022-07-02T10:56:25.607060Z",
          "shell.execute_reply.started": "2022-07-02T10:56:25.602635Z",
          "shell.execute_reply": "2022-07-02T10:56:25.606484Z"
        },
        "trusted": true,
        "id": "sb2ehlrjnGNz"
      },
      "execution_count": 47,
      "outputs": []
    },
    {
      "cell_type": "markdown",
      "source": [
        "Preprocessing the Text before feeding it into the neural networks"
      ],
      "metadata": {
        "id": "ygW01c-UnGNz"
      }
    },
    {
      "cell_type": "code",
      "source": [
        "# Tokenizing the text - converting the words, letters into counts or numbers. \n",
        "# We dont need to explicitly remove the punctuations. we have an inbuilt option in Tokenizer for this purpose\n",
        "tokenizer = Tokenizer(num_words = max_features, filters='!\"#$%&()*+,-./:;<=>?@[\\\\]^_`{|}~\\t\\n', lower = True, split = ' ')\n",
        "tokenizer.fit_on_texts(texts = train_data['text'])\n",
        "X = tokenizer.texts_to_sequences(texts = train_data['text'])"
      ],
      "metadata": {
        "execution": {
          "iopub.status.busy": "2022-07-02T10:56:30.162185Z",
          "iopub.execute_input": "2022-07-02T10:56:30.162863Z",
          "iopub.status.idle": "2022-07-02T10:57:08.218271Z",
          "shell.execute_reply.started": "2022-07-02T10:56:30.162591Z",
          "shell.execute_reply": "2022-07-02T10:57:08.217288Z"
        },
        "trusted": true,
        "id": "i-C9EINrnGNz"
      },
      "execution_count": 48,
      "outputs": []
    },
    {
      "cell_type": "code",
      "source": [
        "# now applying padding to make them even shaped.\n",
        "X = pad_sequences(sequences = X, maxlen = max_features, padding = 'pre')"
      ],
      "metadata": {
        "execution": {
          "iopub.status.busy": "2022-07-02T10:57:11.647238Z",
          "iopub.execute_input": "2022-07-02T10:57:11.647597Z",
          "iopub.status.idle": "2022-07-02T10:57:13.096354Z",
          "shell.execute_reply.started": "2022-07-02T10:57:11.647537Z",
          "shell.execute_reply": "2022-07-02T10:57:13.095519Z"
        },
        "trusted": true,
        "id": "KW4YcsDenGN0"
      },
      "execution_count": 49,
      "outputs": []
    },
    {
      "cell_type": "code",
      "source": [
        "print(X.shape)\n",
        "y = train_data['label'].values\n",
        "print(y.shape)"
      ],
      "metadata": {
        "execution": {
          "iopub.status.busy": "2022-07-02T10:57:14.666951Z",
          "iopub.execute_input": "2022-07-02T10:57:14.667255Z",
          "iopub.status.idle": "2022-07-02T10:57:14.674786Z",
          "shell.execute_reply.started": "2022-07-02T10:57:14.667206Z",
          "shell.execute_reply": "2022-07-02T10:57:14.673875Z"
        },
        "trusted": true,
        "colab": {
          "base_uri": "https://localhost:8080/"
        },
        "id": "crTXVL-onGN0",
        "outputId": "46e17c79-19d6-4c6b-fd4b-7ca8930547a8"
      },
      "execution_count": 50,
      "outputs": [
        {
          "output_type": "stream",
          "name": "stdout",
          "text": [
            "(20554, 50)\n",
            "(20554,)\n"
          ]
        }
      ]
    },
    {
      "cell_type": "code",
      "source": [
        "# splitting the data training data for training and validation.\n",
        "X_train, X_test, y_train, y_test = train_test_split(X, y, test_size = 0.2, random_state = 101)"
      ],
      "metadata": {
        "execution": {
          "iopub.status.busy": "2022-07-02T10:57:17.242341Z",
          "iopub.execute_input": "2022-07-02T10:57:17.242935Z",
          "iopub.status.idle": "2022-07-02T10:57:17.526418Z",
          "shell.execute_reply.started": "2022-07-02T10:57:17.242886Z",
          "shell.execute_reply": "2022-07-02T10:57:17.525511Z"
        },
        "trusted": true,
        "id": "q8QUE7ajnGN1"
      },
      "execution_count": 51,
      "outputs": []
    },
    {
      "cell_type": "markdown",
      "source": [
        "We got our training data preprocessed and ready for training the neural network. \n",
        "\n",
        "We have to create a neural network now"
      ],
      "metadata": {
        "id": "ljChdCZ8nGN1"
      }
    },
    {
      "cell_type": "code",
      "source": [
        "# LSTM Neural Network\n",
        "lstm_model = Sequential(name = 'lstm_nn_model')\n",
        "lstm_model.add(layer = Embedding(input_dim = max_features, output_dim = 120, name = '1st_layer'))\n",
        "lstm_model.add(layer = LSTM(units = 120, dropout = 0.2, recurrent_dropout = 0.2, name = '2nd_layer'))\n",
        "lstm_model.add(layer = Dropout(rate = 0.5, name = '3rd_layer'))\n",
        "lstm_model.add(layer = Dense(units = 120,  activation = 'relu', name = '4th_layer'))\n",
        "lstm_model.add(layer = Dropout(rate = 0.5, name = '5th_layer'))\n",
        "lstm_model.add(layer = Dense(units = len(set(y)),  activation = 'sigmoid', name = 'output_layer'))\n",
        "# compiling the model\n",
        "lstm_model.compile(optimizer = 'adam', loss = 'sparse_categorical_crossentropy', metrics = ['accuracy'])"
      ],
      "metadata": {
        "execution": {
          "iopub.status.busy": "2022-07-02T10:57:20.507152Z",
          "iopub.execute_input": "2022-07-02T10:57:20.507655Z",
          "iopub.status.idle": "2022-07-02T10:57:21.179823Z",
          "shell.execute_reply.started": "2022-07-02T10:57:20.507418Z",
          "shell.execute_reply": "2022-07-02T10:57:21.178910Z"
        },
        "trusted": true,
        "id": "2sBqEhMDnGN1"
      },
      "execution_count": 52,
      "outputs": []
    },
    {
      "cell_type": "code",
      "source": [
        "lstm_model_fit = lstm_model.fit(X_train, y_train, epochs = 1,batch_size=128)"
      ],
      "metadata": {
        "execution": {
          "iopub.status.busy": "2022-07-02T11:11:11.395113Z",
          "iopub.execute_input": "2022-07-02T11:11:11.395523Z"
        },
        "trusted": true,
        "id": "lLjTAuhZnGN2",
        "colab": {
          "base_uri": "https://localhost:8080/"
        },
        "outputId": "b177c313-3843-4674-cd5a-c4d6e1b529da"
      },
      "execution_count": 53,
      "outputs": [
        {
          "output_type": "stream",
          "name": "stdout",
          "text": [
            "129/129 [==============================] - 46s 287ms/step - loss: 0.4796 - accuracy: 0.7729\n"
          ]
        }
      ]
    },
    {
      "cell_type": "markdown",
      "source": [
        "Constructing Bidirectional Neural Network"
      ],
      "metadata": {
        "id": "1y7R12pRnGN2"
      }
    },
    {
      "cell_type": "code",
      "source": [
        "# Bidirectional neural Network\n",
        "bi_lstm_model = Sequential(name = 'Bidirectional_nn_model')\n",
        "bi_lstm_model.add(layer = Embedding(input_dim = max_features, output_dim = 120, name = '1st_layer'))\n",
        "bi_lstm_model.add(layer = Bidirectional(LSTM(units = 120, dropout = 0.2, \n",
        "                          recurrent_dropout = 0.2, recurrent_activation = 'relu', \n",
        "                          activation = 'relu', name = '2nd_layer')))\n",
        "bi_lstm_model.add(layer = Dropout(rate = 0.4, name = '3rd_layer'))\n",
        "bi_lstm_model.add(layer = Dense(units = 120, activation = 'relu', name = '4th_layer'))\n",
        "bi_lstm_model.add(layer = Dropout(rate = 0.2, name = '5th_layer'))\n",
        "bi_lstm_model.add(layer = Dense(units = len(set(y)), activation = 'softmax', name = 'output_layer'))\n",
        "# compiling the model\n",
        "bi_lstm_model.compile(optimizer = 'adam', loss = 'sparse_categorical_crossentropy', metrics = ['accuracy'])"
      ],
      "metadata": {
        "execution": {
          "iopub.status.busy": "2022-07-02T11:04:43.134037Z",
          "iopub.execute_input": "2022-07-02T11:04:43.134664Z",
          "iopub.status.idle": "2022-07-02T11:04:43.936140Z",
          "shell.execute_reply.started": "2022-07-02T11:04:43.134591Z",
          "shell.execute_reply": "2022-07-02T11:04:43.935128Z"
        },
        "trusted": true,
        "id": "T5pCA_BynGN2"
      },
      "execution_count": 93,
      "outputs": []
    },
    {
      "cell_type": "code",
      "source": [
        "bi_lstm_model.summary()"
      ],
      "metadata": {
        "trusted": true,
        "id": "MnOfzHo8nGN2",
        "colab": {
          "base_uri": "https://localhost:8080/"
        },
        "outputId": "0b9d0a2e-286d-4c02-856b-e5f310dcda94"
      },
      "execution_count": 94,
      "outputs": [
        {
          "output_type": "stream",
          "name": "stdout",
          "text": [
            "Model: \"Bidirectional_nn_model\"\n",
            "_________________________________________________________________\n",
            " Layer (type)                Output Shape              Param #   \n",
            "=================================================================\n",
            " 1st_layer (Embedding)       (None, None, 120)         6000      \n",
            "                                                                 \n",
            " bidirectional_2 (Bidirectio  (None, 240)              231360    \n",
            " nal)                                                            \n",
            "                                                                 \n",
            " 3rd_layer (Dropout)         (None, 240)               0         \n",
            "                                                                 \n",
            " 4th_layer (Dense)           (None, 120)               28920     \n",
            "                                                                 \n",
            " 5th_layer (Dropout)         (None, 120)               0         \n",
            "                                                                 \n",
            " output_layer (Dense)        (None, 2)                 242       \n",
            "                                                                 \n",
            "=================================================================\n",
            "Total params: 266,522\n",
            "Trainable params: 266,522\n",
            "Non-trainable params: 0\n",
            "_________________________________________________________________\n"
          ]
        }
      ]
    },
    {
      "cell_type": "code",
      "source": [
        "bi_lstm_model_fit = bi_lstm_model.fit(X_train, y_train, epochs = 1,batch_size=128)"
      ],
      "metadata": {
        "trusted": true,
        "id": "92DgszzqnGN3",
        "colab": {
          "base_uri": "https://localhost:8080/"
        },
        "outputId": "a9f4a4fa-3fb5-433b-dfdd-1d9d10534ab3"
      },
      "execution_count": 95,
      "outputs": [
        {
          "output_type": "stream",
          "name": "stdout",
          "text": [
            "129/129 [==============================] - 80s 574ms/step - loss: nan - accuracy: 0.5116\n"
          ]
        }
      ]
    },
    {
      "cell_type": "markdown",
      "source": [
        "Now preparing the test dataset"
      ],
      "metadata": {
        "id": "W7C5DoC6nGN3"
      }
    },
    {
      "cell_type": "code",
      "source": [
        "print(test.shape)\n",
        "test_data = test.copy()\n",
        "print(test_data.shape)"
      ],
      "metadata": {
        "trusted": true,
        "id": "vakzgsx8nGN3",
        "colab": {
          "base_uri": "https://localhost:8080/"
        },
        "outputId": "9df4436c-9b8d-479c-9d57-4f18b61a9323"
      },
      "execution_count": 26,
      "outputs": [
        {
          "output_type": "stream",
          "name": "stdout",
          "text": [
            "(5200, 4)\n",
            "(5200, 4)\n"
          ]
        }
      ]
    },
    {
      "cell_type": "code",
      "source": [
        "test_data = test_data.set_index('id', drop = True)\n",
        "test_data.shape"
      ],
      "metadata": {
        "trusted": true,
        "id": "3ZsviWusnGN4",
        "colab": {
          "base_uri": "https://localhost:8080/"
        },
        "outputId": "b9ffd9b8-8a98-492d-f60f-83526a1e40a1"
      },
      "execution_count": 27,
      "outputs": [
        {
          "output_type": "execute_result",
          "data": {
            "text/plain": [
              "(5200, 3)"
            ]
          },
          "metadata": {},
          "execution_count": 27
        }
      ]
    },
    {
      "cell_type": "markdown",
      "source": [
        "**Filling the Missing values**"
      ],
      "metadata": {
        "id": "2simEfPqnGN4"
      }
    },
    {
      "cell_type": "code",
      "source": [
        "test_data = test_data.fillna(' ')\n",
        "print(test_data.shape)\n",
        "test_data.isnull().sum()"
      ],
      "metadata": {
        "trusted": true,
        "id": "8mvbDHImnGN4",
        "colab": {
          "base_uri": "https://localhost:8080/"
        },
        "outputId": "1f24d75c-244a-4043-97c7-c22d9a41ade1"
      },
      "execution_count": 28,
      "outputs": [
        {
          "output_type": "stream",
          "name": "stdout",
          "text": [
            "(5200, 3)\n"
          ]
        },
        {
          "output_type": "execute_result",
          "data": {
            "text/plain": [
              "title     0\n",
              "author    0\n",
              "text      0\n",
              "dtype: int64"
            ]
          },
          "metadata": {},
          "execution_count": 28
        }
      ]
    },
    {
      "cell_type": "code",
      "source": [
        "tokenizer.fit_on_texts(texts = test_data['text'])\n",
        "test_text = tokenizer.texts_to_sequences(texts = test_data['text'])"
      ],
      "metadata": {
        "trusted": true,
        "id": "hZ0CNy8hnGN5"
      },
      "execution_count": 57,
      "outputs": []
    },
    {
      "cell_type": "code",
      "source": [
        "test_text = pad_sequences(sequences = test_text, maxlen = max_features, padding = 'pre')"
      ],
      "metadata": {
        "trusted": true,
        "id": "xSpV76vsnGN5"
      },
      "execution_count": 58,
      "outputs": []
    },
    {
      "cell_type": "markdown",
      "source": [
        "Prediction:"
      ],
      "metadata": {
        "id": "1ok4Yta3nGN5"
      }
    },
    {
      "cell_type": "code",
      "source": [
        "lstm_prediction = lstm_model.predict(X_test)\n",
        "lstm_prediction = np.argmax(lstm_prediction,axis=1)\n",
        "lstm_prediction"
      ],
      "metadata": {
        "trusted": true,
        "id": "RO_fzPlnnGN5",
        "colab": {
          "base_uri": "https://localhost:8080/"
        },
        "outputId": "42b6a1fa-7aca-4db4-d82e-e0a5fcbd6556"
      },
      "execution_count": 97,
      "outputs": [
        {
          "output_type": "execute_result",
          "data": {
            "text/plain": [
              "array([1, 1, 1, ..., 0, 0, 1])"
            ]
          },
          "metadata": {},
          "execution_count": 97
        }
      ]
    },
    {
      "cell_type": "code",
      "source": [
        "bi_lstm_prediction = bi_lstm_model.predict(X_test)\n",
        "bi_lstm_prediction = np.argmax(bi_lstm_prediction,axis=1)\n",
        "bi_lstm_prediction"
      ],
      "metadata": {
        "colab": {
          "base_uri": "https://localhost:8080/"
        },
        "id": "BLfnFLo3rUed",
        "outputId": "9e36033d-6610-45b4-b8ac-f3e13e8f3aaa"
      },
      "execution_count": 98,
      "outputs": [
        {
          "output_type": "execute_result",
          "data": {
            "text/plain": [
              "array([0, 0, 0, ..., 0, 0, 0])"
            ]
          },
          "metadata": {},
          "execution_count": 98
        }
      ]
    },
    {
      "cell_type": "code",
      "source": [
        "from sklearn.metrics import accuracy_score\n",
        "scr1 = accuracy_score(y_test,lstm_prediction)\n",
        "scr2 = accuracy_score(y_test,bi_lstm_prediction)"
      ],
      "metadata": {
        "id": "4OhXfJYC2hnC"
      },
      "execution_count": 102,
      "outputs": []
    },
    {
      "cell_type": "markdown",
      "source": [
        "The LSTM predictions have more accuracy."
      ],
      "metadata": {
        "id": "WeFbIleBnGN6"
      }
    }
  ]
}
