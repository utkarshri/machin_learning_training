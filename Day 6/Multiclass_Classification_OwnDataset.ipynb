{
  "nbformat": 4,
  "nbformat_minor": 0,
  "metadata": {
    "colab": {
      "name": "2.2. Multiclass Classification.ipynb",
      "provenance": [],
      "include_colab_link": true
    },
    "language_info": {
      "codemirror_mode": {
        "name": "ipython",
        "version": 3
      },
      "file_extension": ".py",
      "mimetype": "text/x-python",
      "name": "python",
      "nbconvert_exporter": "python",
      "pygments_lexer": "ipython3",
      "version": "3.6.1"
    },
    "kernelspec": {
      "display_name": "Python 3",
      "language": "python",
      "name": "python3"
    }
  },
  "cells": [
    {
      "cell_type": "markdown",
      "metadata": {
        "id": "view-in-github",
        "colab_type": "text"
      },
      "source": [
        "<a href=\"https://colab.research.google.com/github/vkate1/Summer-Training-for-III-year/blob/main/Day6/ANN/Multiclass_Classification_OwnDataset.ipynb\" target=\"_parent\"><img src=\"https://colab.research.google.com/assets/colab-badge.svg\" alt=\"Open In Colab\"/></a>"
      ]
    },
    {
      "cell_type": "markdown",
      "metadata": {
        "id": "GAmM0ZmzwaXz"
      },
      "source": [
        "#  Importing packages"
      ]
    },
    {
      "cell_type": "code",
      "metadata": {
        "id": "sLL-Z-B1waX1"
      },
      "source": [
        "from __future__ import print_function\n",
        "import keras\n",
        "from keras.models import Sequential\n",
        "from keras.layers import Dense, Dropout, Flatten\n",
        "from keras import backend as K\n",
        "\n",
        "import tensorflow as tf"
      ],
      "execution_count": 7,
      "outputs": []
    },
    {
      "cell_type": "markdown",
      "metadata": {
        "id": "r2huTSawwaX6"
      },
      "source": [
        "# Preparing Dataset"
      ]
    },
    {
      "cell_type": "code",
      "metadata": {
        "id": "xHdqe8agwaX8",
        "colab": {
          "base_uri": "https://localhost:8080/"
        },
        "outputId": "0ebc067f-a9c0-493a-d317-5d16723bd808"
      },
      "source": [
        "# Generate dummy data\n",
        "import numpy as np\n",
        "data = np.random.random((1000, 100))\n",
        "labels = np.random.randint(2, size=(1000, 1))\n",
        "\n",
        "# Convert labels to categorical one-hot encoding\n",
        "labels = tf.keras.utils.to_categorical(labels, num_classes=10)\n",
        "\n",
        "test_data = np.random.random((200, 100))\n",
        "test_labels = np.random.randint(2, size=(200, 1))\n",
        "test_labels = tf.keras.utils.to_categorical(test_labels, num_classes=10)\n",
        "\n",
        "print(test_labels.shape)"
      ],
      "execution_count": 9,
      "outputs": [
        {
          "output_type": "stream",
          "name": "stdout",
          "text": [
            "(200, 10)\n"
          ]
        }
      ]
    },
    {
      "cell_type": "markdown",
      "metadata": {
        "id": "ezvOthJvwaYD"
      },
      "source": [
        "# Building a Model"
      ]
    },
    {
      "cell_type": "code",
      "metadata": {
        "id": "LkTna8tnwaYE",
        "colab": {
          "base_uri": "https://localhost:8080/"
        },
        "outputId": "7505f21a-5eb4-45f3-97c0-7a4aea320881"
      },
      "source": [
        "# For a single-input model with 10 classes (categorical classification):\n",
        "\n",
        "model = Sequential()\n",
        "model.add(Dense(32, activation='relu', input_dim=100))\n",
        "model.add(Dense(10, activation='softmax'))\n",
        "model.summary()"
      ],
      "execution_count": 10,
      "outputs": [
        {
          "output_type": "stream",
          "name": "stdout",
          "text": [
            "Model: \"sequential\"\n",
            "_________________________________________________________________\n",
            " Layer (type)                Output Shape              Param #   \n",
            "=================================================================\n",
            " dense (Dense)               (None, 32)                3232      \n",
            "                                                                 \n",
            " dense_1 (Dense)             (None, 10)                330       \n",
            "                                                                 \n",
            "=================================================================\n",
            "Total params: 3,562\n",
            "Trainable params: 3,562\n",
            "Non-trainable params: 0\n",
            "_________________________________________________________________\n"
          ]
        }
      ]
    },
    {
      "cell_type": "markdown",
      "metadata": {
        "id": "SO9yp25SwaYI"
      },
      "source": [
        "# Compile"
      ]
    },
    {
      "cell_type": "code",
      "metadata": {
        "id": "Qv9B70BMwaYJ",
        "colab": {
          "base_uri": "https://localhost:8080/"
        },
        "outputId": "ec0aa0b3-d6c0-496b-8374-357e6aaaecf5"
      },
      "source": [
        "model.compile(optimizer='rmsprop',\n",
        "              loss='categorical_crossentropy',\n",
        "              metrics=['accuracy'])\n",
        "\n",
        "# Train the model, iterating on the data in batches of 32 samples\n",
        "model.fit(data, labels, epochs=10, batch_size=32)"
      ],
      "execution_count": 11,
      "outputs": [
        {
          "output_type": "stream",
          "name": "stdout",
          "text": [
            "Epoch 1/10\n",
            "32/32 [==============================] - 1s 1ms/step - loss: 1.5201 - accuracy: 0.4460\n",
            "Epoch 2/10\n",
            "32/32 [==============================] - 0s 1ms/step - loss: 0.8694 - accuracy: 0.4980\n",
            "Epoch 3/10\n",
            "32/32 [==============================] - 0s 1ms/step - loss: 0.7428 - accuracy: 0.5200\n",
            "Epoch 4/10\n",
            "32/32 [==============================] - 0s 1ms/step - loss: 0.7162 - accuracy: 0.5150\n",
            "Epoch 5/10\n",
            "32/32 [==============================] - 0s 1ms/step - loss: 0.7028 - accuracy: 0.5290\n",
            "Epoch 6/10\n",
            "32/32 [==============================] - 0s 1ms/step - loss: 0.6928 - accuracy: 0.5480\n",
            "Epoch 7/10\n",
            "32/32 [==============================] - 0s 1ms/step - loss: 0.6835 - accuracy: 0.5820\n",
            "Epoch 8/10\n",
            "32/32 [==============================] - 0s 1ms/step - loss: 0.6823 - accuracy: 0.5720\n",
            "Epoch 9/10\n",
            "32/32 [==============================] - 0s 1ms/step - loss: 0.6735 - accuracy: 0.5790\n",
            "Epoch 10/10\n",
            "32/32 [==============================] - 0s 1ms/step - loss: 0.6727 - accuracy: 0.5750\n"
          ]
        },
        {
          "output_type": "execute_result",
          "data": {
            "text/plain": [
              "<keras.callbacks.History at 0x7fd471699390>"
            ]
          },
          "metadata": {},
          "execution_count": 11
        }
      ]
    },
    {
      "cell_type": "markdown",
      "metadata": {
        "id": "tjp22AA0waYQ"
      },
      "source": [
        "# Evaluate"
      ]
    },
    {
      "cell_type": "code",
      "metadata": {
        "id": "8j2OXeATwaYR",
        "colab": {
          "base_uri": "https://localhost:8080/"
        },
        "outputId": "b406908c-b708-4599-84a0-74db8929d057"
      },
      "source": [
        "score = model.evaluate(test_data, test_labels, verbose=0)\n",
        "print('Test loss:', score[0])\n",
        "print('Test accuracy:', score[1])"
      ],
      "execution_count": 14,
      "outputs": [
        {
          "output_type": "stream",
          "name": "stdout",
          "text": [
            "Test loss: 0.7595989108085632\n",
            "Test accuracy: 0.4749999940395355\n"
          ]
        }
      ]
    },
    {
      "cell_type": "markdown",
      "metadata": {
        "id": "d00Fw-NhwaYY"
      },
      "source": [
        "# Predict"
      ]
    },
    {
      "cell_type": "code",
      "metadata": {
        "id": "-KOehZdewaYa",
        "colab": {
          "base_uri": "https://localhost:8080/"
        },
        "outputId": "213c747e-2060-4fd3-d262-f2cf7b4a1fd8"
      },
      "source": [
        "prediction = model.predict(np.random.random((1, 100)))\n",
        "print(prediction)\n",
        "print(sum(prediction[0]))\n",
        "(prediction>0.5)*1"
      ],
      "execution_count": 15,
      "outputs": [
        {
          "output_type": "stream",
          "name": "stdout",
          "text": [
            "[[5.7192338e-01 4.2805168e-01 1.2096272e-06 1.0988208e-05 8.4146365e-07\n",
            "  6.9776388e-06 1.4306190e-06 8.2796146e-07 1.7547997e-06 9.9692886e-07]]\n",
            "1.0000000827023428\n"
          ]
        },
        {
          "output_type": "execute_result",
          "data": {
            "text/plain": [
              "array([[1, 0, 0, 0, 0, 0, 0, 0, 0, 0]])"
            ]
          },
          "metadata": {},
          "execution_count": 15
        }
      ]
    },
    {
      "cell_type": "markdown",
      "metadata": {
        "id": "lt9A0lnowaYh"
      },
      "source": [
        "# Exercise 1\n",
        "### Develop a multiclass classification model for the following. Populate a dataset 2000 samples where 1500 samples for training, 500 samples for testing. The dimension of each sample is 225. Build a neural network model with 64 nodes in first layer with Relu activation and sigmoid activation function for output layer. Run the model for 10 epochs with batch size of 16 samples. Evaluate the model with test data and print accuracy."
      ]
    },
    {
      "cell_type": "markdown",
      "metadata": {
        "id": "IIo6nD50waYi"
      },
      "source": [
        "# Exercise 2\n",
        "### Run the model with different number of epochs such as 10, 15, 20, 25 and compare the accuracies"
      ]
    },
    {
      "cell_type": "markdown",
      "metadata": {
        "id": "ng3jod9IwaYj"
      },
      "source": [
        "# Exercise 3\n",
        "### Run the model with different number of batch sizes such as 2, 4, 8, 16, 32, 64 and compare the accuracies"
      ]
    }
  ]
}